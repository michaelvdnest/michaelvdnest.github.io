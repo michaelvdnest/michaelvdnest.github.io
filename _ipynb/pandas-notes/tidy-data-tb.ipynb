{
 "cells": [
  {
   "cell_type": "code",
   "execution_count": 208,
   "metadata": {},
   "outputs": [],
   "source": [
    "import pandas as pd\n",
    "import numpy as np\n",
    "import matplotlib.pyplot as plt\n",
    "%matplotlib inline\n",
    "\n",
    "pd.set_option('display.min_rows', 10)\n",
    "pd.set_option('display.max_rows', 10)"
   ]
  },
  {
   "cell_type": "code",
   "execution_count": 209,
   "metadata": {},
   "outputs": [],
   "source": [
    "# hide\n",
    "df = pd.read_csv('./tidy-data/tb.csv')"
   ]
  },
  {
   "cell_type": "code",
   "execution_count": 210,
   "metadata": {},
   "outputs": [
    {
     "output_type": "execute_result",
     "data": {
      "text/plain": [
       "  country  year   m014  m1524   m2534  m3544  m4554  m5564    m65  mu   f014\n",
       "0      AD  2000    0.0    0.0     1.0    0.0      0      0    0.0 NaN    NaN\n",
       "1      AE  2000    2.0    4.0     4.0    6.0      5     12   10.0 NaN    3.0\n",
       "2      AF  2000   52.0  228.0   183.0  149.0    129     94   80.0 NaN   93.0\n",
       "3      AG  2000    0.0    0.0     0.0    0.0      0      0    1.0 NaN    1.0\n",
       "4      AL  2000    2.0   19.0    21.0   14.0     24     19   16.0 NaN    3.0\n",
       "5      AM  2000    2.0  152.0   130.0  131.0     63     26   21.0 NaN    1.0\n",
       "6      AN  2000    0.0    0.0     1.0    2.0      0      0    0.0 NaN    0.0\n",
       "7      AO  2000  186.0  999.0  1003.0  912.0    482    312  194.0 NaN  247.0\n",
       "8      AR  2000   97.0  278.0   594.0  402.0    419    368  330.0 NaN  121.0\n",
       "9      AS  2000    NaN    NaN     NaN    NaN      1      1    NaN NaN    NaN"
      ],
      "text/html": "<div>\n<style scoped>\n    .dataframe tbody tr th:only-of-type {\n        vertical-align: middle;\n    }\n\n    .dataframe tbody tr th {\n        vertical-align: top;\n    }\n\n    .dataframe thead th {\n        text-align: right;\n    }\n</style>\n<table border=\"1\" class=\"dataframe\">\n  <thead>\n    <tr style=\"text-align: right;\">\n      <th></th>\n      <th>country</th>\n      <th>year</th>\n      <th>m014</th>\n      <th>m1524</th>\n      <th>m2534</th>\n      <th>m3544</th>\n      <th>m4554</th>\n      <th>m5564</th>\n      <th>m65</th>\n      <th>mu</th>\n      <th>f014</th>\n    </tr>\n  </thead>\n  <tbody>\n    <tr>\n      <th>0</th>\n      <td>AD</td>\n      <td>2000</td>\n      <td>0.0</td>\n      <td>0.0</td>\n      <td>1.0</td>\n      <td>0.0</td>\n      <td>0</td>\n      <td>0</td>\n      <td>0.0</td>\n      <td>NaN</td>\n      <td>NaN</td>\n    </tr>\n    <tr>\n      <th>1</th>\n      <td>AE</td>\n      <td>2000</td>\n      <td>2.0</td>\n      <td>4.0</td>\n      <td>4.0</td>\n      <td>6.0</td>\n      <td>5</td>\n      <td>12</td>\n      <td>10.0</td>\n      <td>NaN</td>\n      <td>3.0</td>\n    </tr>\n    <tr>\n      <th>2</th>\n      <td>AF</td>\n      <td>2000</td>\n      <td>52.0</td>\n      <td>228.0</td>\n      <td>183.0</td>\n      <td>149.0</td>\n      <td>129</td>\n      <td>94</td>\n      <td>80.0</td>\n      <td>NaN</td>\n      <td>93.0</td>\n    </tr>\n    <tr>\n      <th>3</th>\n      <td>AG</td>\n      <td>2000</td>\n      <td>0.0</td>\n      <td>0.0</td>\n      <td>0.0</td>\n      <td>0.0</td>\n      <td>0</td>\n      <td>0</td>\n      <td>1.0</td>\n      <td>NaN</td>\n      <td>1.0</td>\n    </tr>\n    <tr>\n      <th>4</th>\n      <td>AL</td>\n      <td>2000</td>\n      <td>2.0</td>\n      <td>19.0</td>\n      <td>21.0</td>\n      <td>14.0</td>\n      <td>24</td>\n      <td>19</td>\n      <td>16.0</td>\n      <td>NaN</td>\n      <td>3.0</td>\n    </tr>\n    <tr>\n      <th>5</th>\n      <td>AM</td>\n      <td>2000</td>\n      <td>2.0</td>\n      <td>152.0</td>\n      <td>130.0</td>\n      <td>131.0</td>\n      <td>63</td>\n      <td>26</td>\n      <td>21.0</td>\n      <td>NaN</td>\n      <td>1.0</td>\n    </tr>\n    <tr>\n      <th>6</th>\n      <td>AN</td>\n      <td>2000</td>\n      <td>0.0</td>\n      <td>0.0</td>\n      <td>1.0</td>\n      <td>2.0</td>\n      <td>0</td>\n      <td>0</td>\n      <td>0.0</td>\n      <td>NaN</td>\n      <td>0.0</td>\n    </tr>\n    <tr>\n      <th>7</th>\n      <td>AO</td>\n      <td>2000</td>\n      <td>186.0</td>\n      <td>999.0</td>\n      <td>1003.0</td>\n      <td>912.0</td>\n      <td>482</td>\n      <td>312</td>\n      <td>194.0</td>\n      <td>NaN</td>\n      <td>247.0</td>\n    </tr>\n    <tr>\n      <th>8</th>\n      <td>AR</td>\n      <td>2000</td>\n      <td>97.0</td>\n      <td>278.0</td>\n      <td>594.0</td>\n      <td>402.0</td>\n      <td>419</td>\n      <td>368</td>\n      <td>330.0</td>\n      <td>NaN</td>\n      <td>121.0</td>\n    </tr>\n    <tr>\n      <th>9</th>\n      <td>AS</td>\n      <td>2000</td>\n      <td>NaN</td>\n      <td>NaN</td>\n      <td>NaN</td>\n      <td>NaN</td>\n      <td>1</td>\n      <td>1</td>\n      <td>NaN</td>\n      <td>NaN</td>\n      <td>NaN</td>\n    </tr>\n  </tbody>\n</table>\n</div>"
     },
     "metadata": {},
     "execution_count": 210
    }
   ],
   "source": [
    "df"
   ]
  },
  {
   "source": [
    "First melt the dataset."
   ],
   "cell_type": "markdown",
   "metadata": {}
  },
  {
   "cell_type": "code",
   "execution_count": 211,
   "metadata": {},
   "outputs": [
    {
     "output_type": "execute_result",
     "data": {
      "text/plain": [
       "   country  year sex_and_age  cases\n",
       "0       AD  2000        m014    0.0\n",
       "1       AE  2000        m014    2.0\n",
       "2       AF  2000        m014   52.0\n",
       "3       AG  2000        m014    0.0\n",
       "4       AL  2000        m014    2.0\n",
       "..     ...   ...         ...    ...\n",
       "85      AM  2000        f014    1.0\n",
       "86      AN  2000        f014    0.0\n",
       "87      AO  2000        f014  247.0\n",
       "88      AR  2000        f014  121.0\n",
       "89      AS  2000        f014    NaN\n",
       "\n",
       "[90 rows x 4 columns]"
      ],
      "text/html": "<div>\n<style scoped>\n    .dataframe tbody tr th:only-of-type {\n        vertical-align: middle;\n    }\n\n    .dataframe tbody tr th {\n        vertical-align: top;\n    }\n\n    .dataframe thead th {\n        text-align: right;\n    }\n</style>\n<table border=\"1\" class=\"dataframe\">\n  <thead>\n    <tr style=\"text-align: right;\">\n      <th></th>\n      <th>country</th>\n      <th>year</th>\n      <th>sex_and_age</th>\n      <th>cases</th>\n    </tr>\n  </thead>\n  <tbody>\n    <tr>\n      <th>0</th>\n      <td>AD</td>\n      <td>2000</td>\n      <td>m014</td>\n      <td>0.0</td>\n    </tr>\n    <tr>\n      <th>1</th>\n      <td>AE</td>\n      <td>2000</td>\n      <td>m014</td>\n      <td>2.0</td>\n    </tr>\n    <tr>\n      <th>2</th>\n      <td>AF</td>\n      <td>2000</td>\n      <td>m014</td>\n      <td>52.0</td>\n    </tr>\n    <tr>\n      <th>3</th>\n      <td>AG</td>\n      <td>2000</td>\n      <td>m014</td>\n      <td>0.0</td>\n    </tr>\n    <tr>\n      <th>4</th>\n      <td>AL</td>\n      <td>2000</td>\n      <td>m014</td>\n      <td>2.0</td>\n    </tr>\n    <tr>\n      <th>...</th>\n      <td>...</td>\n      <td>...</td>\n      <td>...</td>\n      <td>...</td>\n    </tr>\n    <tr>\n      <th>85</th>\n      <td>AM</td>\n      <td>2000</td>\n      <td>f014</td>\n      <td>1.0</td>\n    </tr>\n    <tr>\n      <th>86</th>\n      <td>AN</td>\n      <td>2000</td>\n      <td>f014</td>\n      <td>0.0</td>\n    </tr>\n    <tr>\n      <th>87</th>\n      <td>AO</td>\n      <td>2000</td>\n      <td>f014</td>\n      <td>247.0</td>\n    </tr>\n    <tr>\n      <th>88</th>\n      <td>AR</td>\n      <td>2000</td>\n      <td>f014</td>\n      <td>121.0</td>\n    </tr>\n    <tr>\n      <th>89</th>\n      <td>AS</td>\n      <td>2000</td>\n      <td>f014</td>\n      <td>NaN</td>\n    </tr>\n  </tbody>\n</table>\n<p>90 rows × 4 columns</p>\n</div>"
     },
     "metadata": {},
     "execution_count": 211
    }
   ],
   "source": [
    "melted = pd.melt(df, id_vars=[\"country\",\"year\"], value_name=\"cases\", \n",
    "                 var_name=\"sex_and_age\")\n",
    "melted"
   ]
  },
  {
   "cell_type": "code",
   "execution_count": 212,
   "metadata": {},
   "outputs": [],
   "source": [
    "# hide\n",
    "melted.dropna(subset=['cases'], inplace=True)"
   ]
  },
  {
   "cell_type": "code",
   "execution_count": 213,
   "metadata": {},
   "outputs": [
    {
     "output_type": "execute_result",
     "data": {
      "text/plain": [
       "   country  year sex_and_age  cases\n",
       "0       AD  2000        m014    0.0\n",
       "10      AD  2000       m1524    0.0\n",
       "20      AD  2000       m2534    1.0\n",
       "30      AD  2000       m3544    0.0\n",
       "40      AD  2000       m4554    0.0\n",
       "50      AD  2000       m5564    0.0\n",
       "60      AD  2000         m65    0.0\n",
       "81      AE  2000        f014    3.0"
      ],
      "text/html": "<div>\n<style scoped>\n    .dataframe tbody tr th:only-of-type {\n        vertical-align: middle;\n    }\n\n    .dataframe tbody tr th {\n        vertical-align: top;\n    }\n\n    .dataframe thead th {\n        text-align: right;\n    }\n</style>\n<table border=\"1\" class=\"dataframe\">\n  <thead>\n    <tr style=\"text-align: right;\">\n      <th></th>\n      <th>country</th>\n      <th>year</th>\n      <th>sex_and_age</th>\n      <th>cases</th>\n    </tr>\n  </thead>\n  <tbody>\n    <tr>\n      <th>0</th>\n      <td>AD</td>\n      <td>2000</td>\n      <td>m014</td>\n      <td>0.0</td>\n    </tr>\n    <tr>\n      <th>10</th>\n      <td>AD</td>\n      <td>2000</td>\n      <td>m1524</td>\n      <td>0.0</td>\n    </tr>\n    <tr>\n      <th>20</th>\n      <td>AD</td>\n      <td>2000</td>\n      <td>m2534</td>\n      <td>1.0</td>\n    </tr>\n    <tr>\n      <th>30</th>\n      <td>AD</td>\n      <td>2000</td>\n      <td>m3544</td>\n      <td>0.0</td>\n    </tr>\n    <tr>\n      <th>40</th>\n      <td>AD</td>\n      <td>2000</td>\n      <td>m4554</td>\n      <td>0.0</td>\n    </tr>\n    <tr>\n      <th>50</th>\n      <td>AD</td>\n      <td>2000</td>\n      <td>m5564</td>\n      <td>0.0</td>\n    </tr>\n    <tr>\n      <th>60</th>\n      <td>AD</td>\n      <td>2000</td>\n      <td>m65</td>\n      <td>0.0</td>\n    </tr>\n    <tr>\n      <th>81</th>\n      <td>AE</td>\n      <td>2000</td>\n      <td>f014</td>\n      <td>3.0</td>\n    </tr>\n  </tbody>\n</table>\n</div>"
     },
     "metadata": {},
     "execution_count": 213
    }
   ],
   "source": [
    "# hide\n",
    "melted = melted.drop_duplicates(subset='sex_and_age')\n",
    "melted"
   ]
  },
  {
   "cell_type": "code",
   "execution_count": 214,
   "metadata": {},
   "outputs": [
    {
     "output_type": "execute_result",
     "data": {
      "text/plain": [
       "    sex age_lower age_upper\n",
       "0     m         0        14\n",
       "10    m        15        24\n",
       "20    m        25        34\n",
       "30    m        35        44\n",
       "40    m        45        54\n",
       "50    m        55        64\n",
       "60  NaN       NaN       NaN\n",
       "81    f         0        14"
      ],
      "text/html": "<div>\n<style scoped>\n    .dataframe tbody tr th:only-of-type {\n        vertical-align: middle;\n    }\n\n    .dataframe tbody tr th {\n        vertical-align: top;\n    }\n\n    .dataframe thead th {\n        text-align: right;\n    }\n</style>\n<table border=\"1\" class=\"dataframe\">\n  <thead>\n    <tr style=\"text-align: right;\">\n      <th></th>\n      <th>sex</th>\n      <th>age_lower</th>\n      <th>age_upper</th>\n    </tr>\n  </thead>\n  <tbody>\n    <tr>\n      <th>0</th>\n      <td>m</td>\n      <td>0</td>\n      <td>14</td>\n    </tr>\n    <tr>\n      <th>10</th>\n      <td>m</td>\n      <td>15</td>\n      <td>24</td>\n    </tr>\n    <tr>\n      <th>20</th>\n      <td>m</td>\n      <td>25</td>\n      <td>34</td>\n    </tr>\n    <tr>\n      <th>30</th>\n      <td>m</td>\n      <td>35</td>\n      <td>44</td>\n    </tr>\n    <tr>\n      <th>40</th>\n      <td>m</td>\n      <td>45</td>\n      <td>54</td>\n    </tr>\n    <tr>\n      <th>50</th>\n      <td>m</td>\n      <td>55</td>\n      <td>64</td>\n    </tr>\n    <tr>\n      <th>60</th>\n      <td>NaN</td>\n      <td>NaN</td>\n      <td>NaN</td>\n    </tr>\n    <tr>\n      <th>81</th>\n      <td>f</td>\n      <td>0</td>\n      <td>14</td>\n    </tr>\n  </tbody>\n</table>\n</div>"
     },
     "metadata": {},
     "execution_count": 214
    }
   ],
   "source": [
    "tmp_df = melted[\"sex_and_age\"].str.extract(\n",
    "    \"(?P<sex>\\D)(?P<age_lower>\\d+)(?P<age_upper>\\d{2})\")\n",
    "tmp_df"
   ]
  },
  {
   "cell_type": "code",
   "execution_count": 215,
   "metadata": {},
   "outputs": [
    {
     "output_type": "execute_result",
     "data": {
      "text/plain": [
       "   country  year sex_and_age   cases\n",
       "0       AD  2000        m014     0.0\n",
       "33      AG  2000       m3544     0.0\n",
       "30      AD  2000       m3544     0.0\n",
       "43      AG  2000       m4554     0.0\n",
       "46      AN  2000       m4554     0.0\n",
       "..     ...   ...         ...     ...\n",
       "47      AO  2000       m4554   482.0\n",
       "28      AR  2000       m2534   594.0\n",
       "37      AO  2000       m3544   912.0\n",
       "17      AO  2000       m1524   999.0\n",
       "27      AO  2000       m2534  1003.0\n",
       "\n",
       "[64 rows x 4 columns]"
      ],
      "text/html": "<div>\n<style scoped>\n    .dataframe tbody tr th:only-of-type {\n        vertical-align: middle;\n    }\n\n    .dataframe tbody tr th {\n        vertical-align: top;\n    }\n\n    .dataframe thead th {\n        text-align: right;\n    }\n</style>\n<table border=\"1\" class=\"dataframe\">\n  <thead>\n    <tr style=\"text-align: right;\">\n      <th></th>\n      <th>country</th>\n      <th>year</th>\n      <th>sex_and_age</th>\n      <th>cases</th>\n    </tr>\n  </thead>\n  <tbody>\n    <tr>\n      <th>0</th>\n      <td>AD</td>\n      <td>2000</td>\n      <td>m014</td>\n      <td>0.0</td>\n    </tr>\n    <tr>\n      <th>33</th>\n      <td>AG</td>\n      <td>2000</td>\n      <td>m3544</td>\n      <td>0.0</td>\n    </tr>\n    <tr>\n      <th>30</th>\n      <td>AD</td>\n      <td>2000</td>\n      <td>m3544</td>\n      <td>0.0</td>\n    </tr>\n    <tr>\n      <th>43</th>\n      <td>AG</td>\n      <td>2000</td>\n      <td>m4554</td>\n      <td>0.0</td>\n    </tr>\n    <tr>\n      <th>46</th>\n      <td>AN</td>\n      <td>2000</td>\n      <td>m4554</td>\n      <td>0.0</td>\n    </tr>\n    <tr>\n      <th>...</th>\n      <td>...</td>\n      <td>...</td>\n      <td>...</td>\n      <td>...</td>\n    </tr>\n    <tr>\n      <th>47</th>\n      <td>AO</td>\n      <td>2000</td>\n      <td>m4554</td>\n      <td>482.0</td>\n    </tr>\n    <tr>\n      <th>28</th>\n      <td>AR</td>\n      <td>2000</td>\n      <td>m2534</td>\n      <td>594.0</td>\n    </tr>\n    <tr>\n      <th>37</th>\n      <td>AO</td>\n      <td>2000</td>\n      <td>m3544</td>\n      <td>912.0</td>\n    </tr>\n    <tr>\n      <th>17</th>\n      <td>AO</td>\n      <td>2000</td>\n      <td>m1524</td>\n      <td>999.0</td>\n    </tr>\n    <tr>\n      <th>27</th>\n      <td>AO</td>\n      <td>2000</td>\n      <td>m2534</td>\n      <td>1003.0</td>\n    </tr>\n  </tbody>\n</table>\n<p>64 rows × 4 columns</p>\n</div>"
     },
     "metadata": {},
     "execution_count": 215
    }
   ],
   "source": [
    "# hide\n",
    "melted = pd.melt(df, id_vars=[\"country\",\"year\"], value_name=\"cases\", var_name=\"sex_and_age\")\n",
    "melted.dropna(subset=['cases'], inplace=True)\n",
    "melted = melted[melted['sex_and_age'] != 'm65']\n",
    "melted.sort_values(\"cases\", inplace=True)\n",
    "melted\n"
   ]
  },
  {
   "cell_type": "code",
   "execution_count": 216,
   "metadata": {},
   "outputs": [
    {
     "output_type": "execute_result",
     "data": {
      "text/plain": [
       "   sex age_lower age_upper\n",
       "0    m         0        14\n",
       "33   m        35        44\n",
       "30   m        35        44\n",
       "43   m        45        54\n",
       "46   m        45        54\n",
       "..  ..       ...       ...\n",
       "47   m        45        54\n",
       "28   m        25        34\n",
       "37   m        35        44\n",
       "17   m        15        24\n",
       "27   m        25        34\n",
       "\n",
       "[64 rows x 3 columns]"
      ],
      "text/html": "<div>\n<style scoped>\n    .dataframe tbody tr th:only-of-type {\n        vertical-align: middle;\n    }\n\n    .dataframe tbody tr th {\n        vertical-align: top;\n    }\n\n    .dataframe thead th {\n        text-align: right;\n    }\n</style>\n<table border=\"1\" class=\"dataframe\">\n  <thead>\n    <tr style=\"text-align: right;\">\n      <th></th>\n      <th>sex</th>\n      <th>age_lower</th>\n      <th>age_upper</th>\n    </tr>\n  </thead>\n  <tbody>\n    <tr>\n      <th>0</th>\n      <td>m</td>\n      <td>0</td>\n      <td>14</td>\n    </tr>\n    <tr>\n      <th>33</th>\n      <td>m</td>\n      <td>35</td>\n      <td>44</td>\n    </tr>\n    <tr>\n      <th>30</th>\n      <td>m</td>\n      <td>35</td>\n      <td>44</td>\n    </tr>\n    <tr>\n      <th>43</th>\n      <td>m</td>\n      <td>45</td>\n      <td>54</td>\n    </tr>\n    <tr>\n      <th>46</th>\n      <td>m</td>\n      <td>45</td>\n      <td>54</td>\n    </tr>\n    <tr>\n      <th>...</th>\n      <td>...</td>\n      <td>...</td>\n      <td>...</td>\n    </tr>\n    <tr>\n      <th>47</th>\n      <td>m</td>\n      <td>45</td>\n      <td>54</td>\n    </tr>\n    <tr>\n      <th>28</th>\n      <td>m</td>\n      <td>25</td>\n      <td>34</td>\n    </tr>\n    <tr>\n      <th>37</th>\n      <td>m</td>\n      <td>35</td>\n      <td>44</td>\n    </tr>\n    <tr>\n      <th>17</th>\n      <td>m</td>\n      <td>15</td>\n      <td>24</td>\n    </tr>\n    <tr>\n      <th>27</th>\n      <td>m</td>\n      <td>25</td>\n      <td>34</td>\n    </tr>\n  </tbody>\n</table>\n<p>64 rows × 3 columns</p>\n</div>"
     },
     "metadata": {},
     "execution_count": 216
    }
   ],
   "source": [
    "# hide\n",
    "tmp_df = melted[\"sex_and_age\"].str.extract(\"(?P<sex>\\D)(?P<age_lower>\\d+)(?P<age_upper>\\d{2})\")\n",
    "tmp_df"
   ]
  },
  {
   "cell_type": "code",
   "execution_count": 217,
   "metadata": {},
   "outputs": [
    {
     "output_type": "execute_result",
     "data": {
      "text/plain": [
       "   country  year sex_and_age   cases sex age_lower age_upper\n",
       "0       AD  2000        m014     0.0   m         0        14\n",
       "33      AG  2000       m3544     0.0   m        35        44\n",
       "30      AD  2000       m3544     0.0   m        35        44\n",
       "43      AG  2000       m4554     0.0   m        45        54\n",
       "46      AN  2000       m4554     0.0   m        45        54\n",
       "..     ...   ...         ...     ...  ..       ...       ...\n",
       "47      AO  2000       m4554   482.0   m        45        54\n",
       "28      AR  2000       m2534   594.0   m        25        34\n",
       "37      AO  2000       m3544   912.0   m        35        44\n",
       "17      AO  2000       m1524   999.0   m        15        24\n",
       "27      AO  2000       m2534  1003.0   m        25        34\n",
       "\n",
       "[64 rows x 7 columns]"
      ],
      "text/html": "<div>\n<style scoped>\n    .dataframe tbody tr th:only-of-type {\n        vertical-align: middle;\n    }\n\n    .dataframe tbody tr th {\n        vertical-align: top;\n    }\n\n    .dataframe thead th {\n        text-align: right;\n    }\n</style>\n<table border=\"1\" class=\"dataframe\">\n  <thead>\n    <tr style=\"text-align: right;\">\n      <th></th>\n      <th>country</th>\n      <th>year</th>\n      <th>sex_and_age</th>\n      <th>cases</th>\n      <th>sex</th>\n      <th>age_lower</th>\n      <th>age_upper</th>\n    </tr>\n  </thead>\n  <tbody>\n    <tr>\n      <th>0</th>\n      <td>AD</td>\n      <td>2000</td>\n      <td>m014</td>\n      <td>0.0</td>\n      <td>m</td>\n      <td>0</td>\n      <td>14</td>\n    </tr>\n    <tr>\n      <th>33</th>\n      <td>AG</td>\n      <td>2000</td>\n      <td>m3544</td>\n      <td>0.0</td>\n      <td>m</td>\n      <td>35</td>\n      <td>44</td>\n    </tr>\n    <tr>\n      <th>30</th>\n      <td>AD</td>\n      <td>2000</td>\n      <td>m3544</td>\n      <td>0.0</td>\n      <td>m</td>\n      <td>35</td>\n      <td>44</td>\n    </tr>\n    <tr>\n      <th>43</th>\n      <td>AG</td>\n      <td>2000</td>\n      <td>m4554</td>\n      <td>0.0</td>\n      <td>m</td>\n      <td>45</td>\n      <td>54</td>\n    </tr>\n    <tr>\n      <th>46</th>\n      <td>AN</td>\n      <td>2000</td>\n      <td>m4554</td>\n      <td>0.0</td>\n      <td>m</td>\n      <td>45</td>\n      <td>54</td>\n    </tr>\n    <tr>\n      <th>...</th>\n      <td>...</td>\n      <td>...</td>\n      <td>...</td>\n      <td>...</td>\n      <td>...</td>\n      <td>...</td>\n      <td>...</td>\n    </tr>\n    <tr>\n      <th>47</th>\n      <td>AO</td>\n      <td>2000</td>\n      <td>m4554</td>\n      <td>482.0</td>\n      <td>m</td>\n      <td>45</td>\n      <td>54</td>\n    </tr>\n    <tr>\n      <th>28</th>\n      <td>AR</td>\n      <td>2000</td>\n      <td>m2534</td>\n      <td>594.0</td>\n      <td>m</td>\n      <td>25</td>\n      <td>34</td>\n    </tr>\n    <tr>\n      <th>37</th>\n      <td>AO</td>\n      <td>2000</td>\n      <td>m3544</td>\n      <td>912.0</td>\n      <td>m</td>\n      <td>35</td>\n      <td>44</td>\n    </tr>\n    <tr>\n      <th>17</th>\n      <td>AO</td>\n      <td>2000</td>\n      <td>m1524</td>\n      <td>999.0</td>\n      <td>m</td>\n      <td>15</td>\n      <td>24</td>\n    </tr>\n    <tr>\n      <th>27</th>\n      <td>AO</td>\n      <td>2000</td>\n      <td>m2534</td>\n      <td>1003.0</td>\n      <td>m</td>\n      <td>25</td>\n      <td>34</td>\n    </tr>\n  </tbody>\n</table>\n<p>64 rows × 7 columns</p>\n</div>"
     },
     "metadata": {},
     "execution_count": 217
    }
   ],
   "source": [
    "# Merge \n",
    "melted = pd.concat([melted, tmp_df], axis=1)\n",
    "melted"
   ]
  },
  {
   "cell_type": "code",
   "execution_count": 218,
   "metadata": {},
   "outputs": [
    {
     "output_type": "execute_result",
     "data": {
      "text/plain": [
       "   country  year sex_and_age   cases sex age_lower age_upper    age\n",
       "0       AD  2000        m014     0.0   m         0        14   0-14\n",
       "33      AG  2000       m3544     0.0   m        35        44  35-44\n",
       "30      AD  2000       m3544     0.0   m        35        44  35-44\n",
       "43      AG  2000       m4554     0.0   m        45        54  45-54\n",
       "46      AN  2000       m4554     0.0   m        45        54  45-54\n",
       "..     ...   ...         ...     ...  ..       ...       ...    ...\n",
       "47      AO  2000       m4554   482.0   m        45        54  45-54\n",
       "28      AR  2000       m2534   594.0   m        25        34  25-34\n",
       "37      AO  2000       m3544   912.0   m        35        44  35-44\n",
       "17      AO  2000       m1524   999.0   m        15        24  15-24\n",
       "27      AO  2000       m2534  1003.0   m        25        34  25-34\n",
       "\n",
       "[64 rows x 8 columns]"
      ],
      "text/html": "<div>\n<style scoped>\n    .dataframe tbody tr th:only-of-type {\n        vertical-align: middle;\n    }\n\n    .dataframe tbody tr th {\n        vertical-align: top;\n    }\n\n    .dataframe thead th {\n        text-align: right;\n    }\n</style>\n<table border=\"1\" class=\"dataframe\">\n  <thead>\n    <tr style=\"text-align: right;\">\n      <th></th>\n      <th>country</th>\n      <th>year</th>\n      <th>sex_and_age</th>\n      <th>cases</th>\n      <th>sex</th>\n      <th>age_lower</th>\n      <th>age_upper</th>\n      <th>age</th>\n    </tr>\n  </thead>\n  <tbody>\n    <tr>\n      <th>0</th>\n      <td>AD</td>\n      <td>2000</td>\n      <td>m014</td>\n      <td>0.0</td>\n      <td>m</td>\n      <td>0</td>\n      <td>14</td>\n      <td>0-14</td>\n    </tr>\n    <tr>\n      <th>33</th>\n      <td>AG</td>\n      <td>2000</td>\n      <td>m3544</td>\n      <td>0.0</td>\n      <td>m</td>\n      <td>35</td>\n      <td>44</td>\n      <td>35-44</td>\n    </tr>\n    <tr>\n      <th>30</th>\n      <td>AD</td>\n      <td>2000</td>\n      <td>m3544</td>\n      <td>0.0</td>\n      <td>m</td>\n      <td>35</td>\n      <td>44</td>\n      <td>35-44</td>\n    </tr>\n    <tr>\n      <th>43</th>\n      <td>AG</td>\n      <td>2000</td>\n      <td>m4554</td>\n      <td>0.0</td>\n      <td>m</td>\n      <td>45</td>\n      <td>54</td>\n      <td>45-54</td>\n    </tr>\n    <tr>\n      <th>46</th>\n      <td>AN</td>\n      <td>2000</td>\n      <td>m4554</td>\n      <td>0.0</td>\n      <td>m</td>\n      <td>45</td>\n      <td>54</td>\n      <td>45-54</td>\n    </tr>\n    <tr>\n      <th>...</th>\n      <td>...</td>\n      <td>...</td>\n      <td>...</td>\n      <td>...</td>\n      <td>...</td>\n      <td>...</td>\n      <td>...</td>\n      <td>...</td>\n    </tr>\n    <tr>\n      <th>47</th>\n      <td>AO</td>\n      <td>2000</td>\n      <td>m4554</td>\n      <td>482.0</td>\n      <td>m</td>\n      <td>45</td>\n      <td>54</td>\n      <td>45-54</td>\n    </tr>\n    <tr>\n      <th>28</th>\n      <td>AR</td>\n      <td>2000</td>\n      <td>m2534</td>\n      <td>594.0</td>\n      <td>m</td>\n      <td>25</td>\n      <td>34</td>\n      <td>25-34</td>\n    </tr>\n    <tr>\n      <th>37</th>\n      <td>AO</td>\n      <td>2000</td>\n      <td>m3544</td>\n      <td>912.0</td>\n      <td>m</td>\n      <td>35</td>\n      <td>44</td>\n      <td>35-44</td>\n    </tr>\n    <tr>\n      <th>17</th>\n      <td>AO</td>\n      <td>2000</td>\n      <td>m1524</td>\n      <td>999.0</td>\n      <td>m</td>\n      <td>15</td>\n      <td>24</td>\n      <td>15-24</td>\n    </tr>\n    <tr>\n      <th>27</th>\n      <td>AO</td>\n      <td>2000</td>\n      <td>m2534</td>\n      <td>1003.0</td>\n      <td>m</td>\n      <td>25</td>\n      <td>34</td>\n      <td>25-34</td>\n    </tr>\n  </tbody>\n</table>\n<p>64 rows × 8 columns</p>\n</div>"
     },
     "metadata": {},
     "execution_count": 218
    }
   ],
   "source": [
    "melted[\"age\"] = melted[\"age_lower\"] + \"-\" + melted[\"age_upper\"]\n",
    "melted"
   ]
  },
  {
   "cell_type": "code",
   "execution_count": 219,
   "metadata": {},
   "outputs": [
    {
     "output_type": "execute_result",
     "data": {
      "text/plain": [
       "   country  year  cases sex    age\n",
       "0       AD  2000    0.0   m   0-14\n",
       "10      AD  2000    0.0   m  15-24\n",
       "20      AD  2000    1.0   m  25-34\n",
       "30      AD  2000    0.0   m  35-44\n",
       "40      AD  2000    0.0   m  45-54\n",
       "..     ...   ...    ...  ..    ...\n",
       "38      AR  2000  402.0   m  35-44\n",
       "48      AR  2000  419.0   m  45-54\n",
       "58      AR  2000  368.0   m  55-64\n",
       "49      AS  2000    1.0   m  45-54\n",
       "59      AS  2000    1.0   m  55-64\n",
       "\n",
       "[64 rows x 5 columns]"
      ],
      "text/html": "<div>\n<style scoped>\n    .dataframe tbody tr th:only-of-type {\n        vertical-align: middle;\n    }\n\n    .dataframe tbody tr th {\n        vertical-align: top;\n    }\n\n    .dataframe thead th {\n        text-align: right;\n    }\n</style>\n<table border=\"1\" class=\"dataframe\">\n  <thead>\n    <tr style=\"text-align: right;\">\n      <th></th>\n      <th>country</th>\n      <th>year</th>\n      <th>cases</th>\n      <th>sex</th>\n      <th>age</th>\n    </tr>\n  </thead>\n  <tbody>\n    <tr>\n      <th>0</th>\n      <td>AD</td>\n      <td>2000</td>\n      <td>0.0</td>\n      <td>m</td>\n      <td>0-14</td>\n    </tr>\n    <tr>\n      <th>10</th>\n      <td>AD</td>\n      <td>2000</td>\n      <td>0.0</td>\n      <td>m</td>\n      <td>15-24</td>\n    </tr>\n    <tr>\n      <th>20</th>\n      <td>AD</td>\n      <td>2000</td>\n      <td>1.0</td>\n      <td>m</td>\n      <td>25-34</td>\n    </tr>\n    <tr>\n      <th>30</th>\n      <td>AD</td>\n      <td>2000</td>\n      <td>0.0</td>\n      <td>m</td>\n      <td>35-44</td>\n    </tr>\n    <tr>\n      <th>40</th>\n      <td>AD</td>\n      <td>2000</td>\n      <td>0.0</td>\n      <td>m</td>\n      <td>45-54</td>\n    </tr>\n    <tr>\n      <th>...</th>\n      <td>...</td>\n      <td>...</td>\n      <td>...</td>\n      <td>...</td>\n      <td>...</td>\n    </tr>\n    <tr>\n      <th>38</th>\n      <td>AR</td>\n      <td>2000</td>\n      <td>402.0</td>\n      <td>m</td>\n      <td>35-44</td>\n    </tr>\n    <tr>\n      <th>48</th>\n      <td>AR</td>\n      <td>2000</td>\n      <td>419.0</td>\n      <td>m</td>\n      <td>45-54</td>\n    </tr>\n    <tr>\n      <th>58</th>\n      <td>AR</td>\n      <td>2000</td>\n      <td>368.0</td>\n      <td>m</td>\n      <td>55-64</td>\n    </tr>\n    <tr>\n      <th>49</th>\n      <td>AS</td>\n      <td>2000</td>\n      <td>1.0</td>\n      <td>m</td>\n      <td>45-54</td>\n    </tr>\n    <tr>\n      <th>59</th>\n      <td>AS</td>\n      <td>2000</td>\n      <td>1.0</td>\n      <td>m</td>\n      <td>55-64</td>\n    </tr>\n  </tbody>\n</table>\n<p>64 rows × 5 columns</p>\n</div>"
     },
     "metadata": {},
     "execution_count": 219
    }
   ],
   "source": [
    "melted = melted.drop(['sex_and_age',\"age_lower\",\"age_upper\"], axis=1)\r\n",
    "melted = melted.dropna()\r\n",
    "melted = melted.sort_values(by=[\"country\", \"year\", \"sex\", \"age\"])\r\n",
    "melted\r\n"
   ]
  },
  {
   "cell_type": "code",
   "execution_count": null,
   "metadata": {},
   "outputs": [],
   "source": []
  }
 ],
 "metadata": {
  "kernelspec": {
   "display_name": "Python 3",
   "language": "python",
   "name": "python3"
  },
  "language_info": {
   "codemirror_mode": {
    "name": "ipython",
    "version": 3
   },
   "file_extension": ".py",
   "mimetype": "text/x-python",
   "name": "python",
   "nbconvert_exporter": "python",
   "pygments_lexer": "ipython3",
   "version": "3.8.5-final"
  }
 },
 "nbformat": 4,
 "nbformat_minor": 2
}