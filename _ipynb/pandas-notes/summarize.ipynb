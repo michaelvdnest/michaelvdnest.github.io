{
 "metadata": {
  "language_info": {
   "codemirror_mode": {
    "name": "ipython",
    "version": 3
   },
   "file_extension": ".py",
   "mimetype": "text/x-python",
   "name": "python",
   "nbconvert_exporter": "python",
   "pygments_lexer": "ipython3",
   "version": "3.8.2-final"
  },
  "orig_nbformat": 2,
  "kernelspec": {
   "name": "python3",
   "display_name": "Python 3",
   "language": "python"
  }
 },
 "nbformat": 4,
 "nbformat_minor": 2,
 "cells": [
  {
   "cell_type": "code",
   "execution_count": 42,
   "metadata": {},
   "outputs": [],
   "source": [
    "import pandas as pd\n",
    "import numpy as np\n",
    "import matplotlib.pyplot as plt\n",
    "%matplotlib inline\n",
    "\n",
    "df = pd.DataFrame(\n",
    "    {\n",
    "        \"foo\": [\"one\", \"one\", \"one\", \"two\", \"two\", \"two\"],\n",
    "        \"bar\": [\"A\", \"B\", \"C\", \"A\", \"B\", \"C\"],\n",
    "        \"baz\": [1, 2, 3, 4, 5, 6],\n",
    "        \"qux\": [\"u\", 'v', 'w', 'x', 'y', 'z'],\n",
    "    }\n",
    ")"
   ]
  },
  {
   "cell_type": "code",
   "execution_count": 43,
   "metadata": {},
   "outputs": [
    {
     "output_type": "execute_result",
     "data": {
      "text/plain": [
       "   foo bar  baz qux\n",
       "0  one   A    1   u\n",
       "1  one   B    2   v\n",
       "2  one   C    3   w\n",
       "3  two   A    4   x\n",
       "4  two   B    5   y\n",
       "5  two   C    6   z"
      ],
      "text/html": "<div>\n<style scoped>\n    .dataframe tbody tr th:only-of-type {\n        vertical-align: middle;\n    }\n\n    .dataframe tbody tr th {\n        vertical-align: top;\n    }\n\n    .dataframe thead th {\n        text-align: right;\n    }\n</style>\n<table border=\"1\" class=\"dataframe\">\n  <thead>\n    <tr style=\"text-align: right;\">\n      <th></th>\n      <th>foo</th>\n      <th>bar</th>\n      <th>baz</th>\n      <th>qux</th>\n    </tr>\n  </thead>\n  <tbody>\n    <tr>\n      <th>0</th>\n      <td>one</td>\n      <td>A</td>\n      <td>1</td>\n      <td>u</td>\n    </tr>\n    <tr>\n      <th>1</th>\n      <td>one</td>\n      <td>B</td>\n      <td>2</td>\n      <td>v</td>\n    </tr>\n    <tr>\n      <th>2</th>\n      <td>one</td>\n      <td>C</td>\n      <td>3</td>\n      <td>w</td>\n    </tr>\n    <tr>\n      <th>3</th>\n      <td>two</td>\n      <td>A</td>\n      <td>4</td>\n      <td>x</td>\n    </tr>\n    <tr>\n      <th>4</th>\n      <td>two</td>\n      <td>B</td>\n      <td>5</td>\n      <td>y</td>\n    </tr>\n    <tr>\n      <th>5</th>\n      <td>two</td>\n      <td>C</td>\n      <td>6</td>\n      <td>z</td>\n    </tr>\n  </tbody>\n</table>\n</div>"
     },
     "metadata": {},
     "execution_count": 43
    }
   ],
   "source": [
    "df"
   ]
  },
  {
   "source": [
    "The dimensions of the dataset."
   ],
   "cell_type": "markdown",
   "metadata": {}
  },
  {
   "cell_type": "code",
   "execution_count": 61,
   "metadata": {},
   "outputs": [
    {
     "output_type": "execute_result",
     "data": {
      "text/plain": [
       "(6, 4)"
      ]
     },
     "metadata": {},
     "execution_count": 61
    }
   ],
   "source": [
    "df.shape"
   ]
  },
  {
   "source": [
    "The number of rows in the DataFrame."
   ],
   "cell_type": "markdown",
   "metadata": {}
  },
  {
   "cell_type": "code",
   "execution_count": 63,
   "metadata": {},
   "outputs": [
    {
     "output_type": "execute_result",
     "data": {
      "text/plain": [
       "6"
      ]
     },
     "metadata": {},
     "execution_count": 63
    }
   ],
   "source": [
    "len(df)"
   ]
  },
  {
   "source": [
    "The number of rows times number of columns. "
   ],
   "cell_type": "markdown",
   "metadata": {}
  },
  {
   "cell_type": "code",
   "execution_count": 65,
   "metadata": {},
   "outputs": [
    {
     "output_type": "execute_result",
     "data": {
      "text/plain": [
       "24"
      ]
     },
     "metadata": {},
     "execution_count": 65
    }
   ],
   "source": [
    "df.size"
   ]
  },
  {
   "source": [
    "Number of dimensions of the dataset."
   ],
   "cell_type": "markdown",
   "metadata": {}
  },
  {
   "cell_type": "code",
   "execution_count": 86,
   "metadata": {},
   "outputs": [
    {
     "output_type": "execute_result",
     "data": {
      "text/plain": [
       "2"
      ]
     },
     "metadata": {},
     "execution_count": 86
    }
   ],
   "source": [
    "df.ndim"
   ]
  },
  {
   "source": [
    "Summary statistics for the numerical columns (transposed for more readable output)."
   ],
   "cell_type": "markdown",
   "metadata": {}
  },
  {
   "cell_type": "code",
   "execution_count": 46,
   "metadata": {},
   "outputs": [
    {
     "output_type": "execute_result",
     "data": {
      "text/plain": [
       "     count  mean       std  min   25%  50%   75%  max\n",
       "baz    6.0   3.5  1.870829  1.0  2.25  3.5  4.75  6.0"
      ],
      "text/html": "<div>\n<style scoped>\n    .dataframe tbody tr th:only-of-type {\n        vertical-align: middle;\n    }\n\n    .dataframe tbody tr th {\n        vertical-align: top;\n    }\n\n    .dataframe thead th {\n        text-align: right;\n    }\n</style>\n<table border=\"1\" class=\"dataframe\">\n  <thead>\n    <tr style=\"text-align: right;\">\n      <th></th>\n      <th>count</th>\n      <th>mean</th>\n      <th>std</th>\n      <th>min</th>\n      <th>25%</th>\n      <th>50%</th>\n      <th>75%</th>\n      <th>max</th>\n    </tr>\n  </thead>\n  <tbody>\n    <tr>\n      <th>baz</th>\n      <td>6.0</td>\n      <td>3.5</td>\n      <td>1.870829</td>\n      <td>1.0</td>\n      <td>2.25</td>\n      <td>3.5</td>\n      <td>4.75</td>\n      <td>6.0</td>\n    </tr>\n  </tbody>\n</table>\n</div>"
     },
     "metadata": {},
     "execution_count": 46
    }
   ],
   "source": [
    "df.describe(include=[np.number]).T"
   ]
  },
  {
   "source": [
    "Summary stats for object and categorical columns (transposed for more readable output). "
   ],
   "cell_type": "markdown",
   "metadata": {}
  },
  {
   "cell_type": "code",
   "execution_count": 48,
   "metadata": {},
   "outputs": [
    {
     "output_type": "execute_result",
     "data": {
      "text/plain": [
       "    count unique  top freq\n",
       "foo     6      2  one    3\n",
       "bar     6      3    C    2\n",
       "qux     6      6    x    1"
      ],
      "text/html": "<div>\n<style scoped>\n    .dataframe tbody tr th:only-of-type {\n        vertical-align: middle;\n    }\n\n    .dataframe tbody tr th {\n        vertical-align: top;\n    }\n\n    .dataframe thead th {\n        text-align: right;\n    }\n</style>\n<table border=\"1\" class=\"dataframe\">\n  <thead>\n    <tr style=\"text-align: right;\">\n      <th></th>\n      <th>count</th>\n      <th>unique</th>\n      <th>top</th>\n      <th>freq</th>\n    </tr>\n  </thead>\n  <tbody>\n    <tr>\n      <th>foo</th>\n      <td>6</td>\n      <td>2</td>\n      <td>one</td>\n      <td>3</td>\n    </tr>\n    <tr>\n      <th>bar</th>\n      <td>6</td>\n      <td>3</td>\n      <td>C</td>\n      <td>2</td>\n    </tr>\n    <tr>\n      <th>qux</th>\n      <td>6</td>\n      <td>6</td>\n      <td>x</td>\n      <td>1</td>\n    </tr>\n  </tbody>\n</table>\n</div>"
     },
     "metadata": {},
     "execution_count": 48
    }
   ],
   "source": [
    "df.describe(include=[np.object, pd.Categorical]).T"
   ]
  },
  {
   "source": [
    "Count of non null values."
   ],
   "cell_type": "markdown",
   "metadata": {}
  },
  {
   "cell_type": "code",
   "execution_count": 51,
   "metadata": {},
   "outputs": [
    {
     "output_type": "execute_result",
     "data": {
      "text/plain": [
       "foo    6\n",
       "bar    6\n",
       "baz    6\n",
       "qux    6\n",
       "dtype: int64"
      ]
     },
     "metadata": {},
     "execution_count": 51
    }
   ],
   "source": [
    "df.count()"
   ]
  },
  {
   "source": [
    "Count number of rows with each unique value of variable."
   ],
   "cell_type": "markdown",
   "metadata": {}
  },
  {
   "cell_type": "code",
   "execution_count": 49,
   "metadata": {},
   "outputs": [
    {
     "output_type": "execute_result",
     "data": {
      "text/plain": [
       "C    2\n",
       "A    2\n",
       "B    2\n",
       "Name: bar, dtype: int64"
      ]
     },
     "metadata": {},
     "execution_count": 49
    }
   ],
   "source": [
    "df['bar'].value_counts()"
   ]
  },
  {
   "source": [
    "Number of distinct values in a column."
   ],
   "cell_type": "markdown",
   "metadata": {}
  },
  {
   "cell_type": "code",
   "execution_count": 87,
   "metadata": {},
   "outputs": [
    {
     "output_type": "execute_result",
     "data": {
      "text/plain": [
       "3"
      ]
     },
     "metadata": {},
     "execution_count": 87
    }
   ],
   "source": [
    "df['bar'].nunique()"
   ]
  },
  {
   "source": [
    "The minimum value in each column."
   ],
   "cell_type": "markdown",
   "metadata": {}
  },
  {
   "cell_type": "code",
   "execution_count": 52,
   "metadata": {},
   "outputs": [
    {
     "output_type": "execute_result",
     "data": {
      "text/plain": [
       "foo    one\n",
       "bar      A\n",
       "baz      1\n",
       "qux      u\n",
       "dtype: object"
      ]
     },
     "metadata": {},
     "execution_count": 52
    }
   ],
   "source": [
    "df.min()"
   ]
  },
  {
   "source": [
    "List the index dtype and columns, non-null values and memory usage of the DataFrame.\n"
   ],
   "cell_type": "markdown",
   "metadata": {}
  },
  {
   "cell_type": "code",
   "execution_count": 88,
   "metadata": {},
   "outputs": [
    {
     "output_type": "stream",
     "name": "stdout",
     "text": [
      "<class 'pandas.core.frame.DataFrame'>\nRangeIndex: 6 entries, 0 to 5\nData columns (total 4 columns):\n #   Column  Non-Null Count  Dtype   \n---  ------  --------------  -----   \n 0   foo     6 non-null      category\n 1   bar     6 non-null      category\n 2   baz     6 non-null      int8    \n 3   qux     6 non-null      object  \ndtypes: category(2), int8(1), object(1)\nmemory usage: 450.0+ bytes\n"
     ]
    }
   ],
   "source": [
    "df.info()"
   ]
  },
  {
   "source": [
    "Memory usage of each column."
   ],
   "cell_type": "markdown",
   "metadata": {}
  },
  {
   "cell_type": "code",
   "execution_count": 66,
   "metadata": {},
   "outputs": [
    {
     "output_type": "execute_result",
     "data": {
      "text/plain": [
       "Index    128\n",
       "foo      360\n",
       "bar      348\n",
       "baz       48\n",
       "qux      348\n",
       "dtype: int64"
      ]
     },
     "metadata": {},
     "execution_count": 66
    }
   ],
   "source": [
    "\n",
    "df.memory_usage(deep=True)"
   ]
  },
  {
   "cell_type": "code",
   "execution_count": 73,
   "metadata": {},
   "outputs": [],
   "source": [
    "df['foo'] = df['foo'].astype('category')\n",
    "df['bar'] = df['bar'].astype('category')\n",
    "df['baz'] = df['baz'].astype(np.int8)"
   ]
  },
  {
   "cell_type": "code",
   "execution_count": 74,
   "metadata": {},
   "outputs": [
    {
     "output_type": "execute_result",
     "data": {
      "text/plain": [
       "Index    128\n",
       "foo      360\n",
       "bar      348\n",
       "baz        6\n",
       "qux      348\n",
       "dtype: int64"
      ]
     },
     "metadata": {},
     "execution_count": 74
    }
   ],
   "source": [
    "df.memory_usage(deep=True)"
   ]
  },
  {
   "cell_type": "code",
   "execution_count": 84,
   "metadata": {},
   "outputs": [],
   "source": [
    "\n",
    "    "
   ]
  },
  {
   "cell_type": "code",
   "execution_count": 85,
   "metadata": {},
   "outputs": [
    {
     "output_type": "execute_result",
     "data": {
      "text/plain": [
       "Index    128\n",
       "foo      234\n",
       "bar      288\n",
       "baz        6\n",
       "qux      348\n",
       "dtype: int64"
      ]
     },
     "metadata": {},
     "execution_count": 85
    }
   ],
   "source": [
    "df.memory_usage(deep=True)"
   ]
  },
  {
   "cell_type": "code",
   "execution_count": 77,
   "metadata": {},
   "outputs": [
    {
     "output_type": "execute_result",
     "data": {
      "text/plain": [
       "   foo bar  baz qux\n",
       "0  one   A    1   u\n",
       "1  one   B    2   v\n",
       "2  one   C    3   w\n",
       "3  two   A    4   x\n",
       "4  two   B    5   y\n",
       "5  two   C    6   z"
      ],
      "text/html": "<div>\n<style scoped>\n    .dataframe tbody tr th:only-of-type {\n        vertical-align: middle;\n    }\n\n    .dataframe tbody tr th {\n        vertical-align: top;\n    }\n\n    .dataframe thead th {\n        text-align: right;\n    }\n</style>\n<table border=\"1\" class=\"dataframe\">\n  <thead>\n    <tr style=\"text-align: right;\">\n      <th></th>\n      <th>foo</th>\n      <th>bar</th>\n      <th>baz</th>\n      <th>qux</th>\n    </tr>\n  </thead>\n  <tbody>\n    <tr>\n      <th>0</th>\n      <td>one</td>\n      <td>A</td>\n      <td>1</td>\n      <td>u</td>\n    </tr>\n    <tr>\n      <th>1</th>\n      <td>one</td>\n      <td>B</td>\n      <td>2</td>\n      <td>v</td>\n    </tr>\n    <tr>\n      <th>2</th>\n      <td>one</td>\n      <td>C</td>\n      <td>3</td>\n      <td>w</td>\n    </tr>\n    <tr>\n      <th>3</th>\n      <td>two</td>\n      <td>A</td>\n      <td>4</td>\n      <td>x</td>\n    </tr>\n    <tr>\n      <th>4</th>\n      <td>two</td>\n      <td>B</td>\n      <td>5</td>\n      <td>y</td>\n    </tr>\n    <tr>\n      <th>5</th>\n      <td>two</td>\n      <td>C</td>\n      <td>6</td>\n      <td>z</td>\n    </tr>\n  </tbody>\n</table>\n</div>"
     },
     "metadata": {},
     "execution_count": 77
    }
   ],
   "source": [
    "df"
   ]
  },
  {
   "cell_type": "code",
   "execution_count": 79,
   "metadata": {},
   "outputs": [
    {
     "output_type": "stream",
     "name": "stdout",
     "text": [
      "<class 'pandas.core.frame.DataFrame'>\nRangeIndex: 6 entries, 0 to 5\nData columns (total 4 columns):\n #   Column  Non-Null Count  Dtype   \n---  ------  --------------  -----   \n 0   foo     6 non-null      category\n 1   bar     6 non-null      object  \n 2   baz     6 non-null      int8    \n 3   qux     6 non-null      object  \ndtypes: category(1), int8(1), object(2)\nmemory usage: 360.0+ bytes\n"
     ]
    }
   ],
   "source": [
    "df.info()"
   ]
  },
  {
   "cell_type": "code",
   "execution_count": null,
   "metadata": {},
   "outputs": [],
   "source": []
  }
 ]
}