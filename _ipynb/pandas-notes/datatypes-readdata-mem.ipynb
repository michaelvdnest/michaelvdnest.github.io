{
 "cells": [
  {
   "cell_type": "code",
   "execution_count": 1,
   "metadata": {},
   "outputs": [],
   "source": [
    "import pandas as pd\n",
    "import numpy as np\n",
    "import matplotlib.pyplot as plt\n",
    "%matplotlib inline\n"
   ]
  },
  {
   "cell_type": "code",
   "execution_count": 2,
   "metadata": {},
   "outputs": [
    {
     "data": {
      "text/html": [
       "<div>\n",
       "<style scoped>\n",
       "    .dataframe tbody tr th:only-of-type {\n",
       "        vertical-align: middle;\n",
       "    }\n",
       "\n",
       "    .dataframe tbody tr th {\n",
       "        vertical-align: top;\n",
       "    }\n",
       "\n",
       "    .dataframe thead th {\n",
       "        text-align: right;\n",
       "    }\n",
       "</style>\n",
       "<table border=\"1\" class=\"dataframe\">\n",
       "  <thead>\n",
       "    <tr style=\"text-align: right;\">\n",
       "      <th></th>\n",
       "      <th>str1</th>\n",
       "      <th>str2</th>\n",
       "      <th>str3</th>\n",
       "      <th>float64</th>\n",
       "      <th>int64</th>\n",
       "      <th>float32</th>\n",
       "      <th>int8</th>\n",
       "      <th>bool</th>\n",
       "      <th>date1</th>\n",
       "      <th>date2</th>\n",
       "      <th>date3</th>\n",
       "      <th>delta</th>\n",
       "    </tr>\n",
       "  </thead>\n",
       "  <tbody>\n",
       "    <tr>\n",
       "      <th>0</th>\n",
       "      <td>foo</td>\n",
       "      <td>bar</td>\n",
       "      <td>qux</td>\n",
       "      <td>0.208548</td>\n",
       "      <td>1</td>\n",
       "      <td>0.143929</td>\n",
       "      <td>1</td>\n",
       "      <td>False</td>\n",
       "      <td>2001-01-02</td>\n",
       "      <td>2015-01-01</td>\n",
       "      <td>2011-06-24</td>\n",
       "      <td>0 days</td>\n",
       "    </tr>\n",
       "    <tr>\n",
       "      <th>1</th>\n",
       "      <td>foo</td>\n",
       "      <td>bar</td>\n",
       "      <td>qux</td>\n",
       "      <td>0.271333</td>\n",
       "      <td>1</td>\n",
       "      <td>0.710527</td>\n",
       "      <td>1</td>\n",
       "      <td>False</td>\n",
       "      <td>2001-01-02</td>\n",
       "      <td>2015-01-02</td>\n",
       "      <td>2011-06-24</td>\n",
       "      <td>1 days</td>\n",
       "    </tr>\n",
       "    <tr>\n",
       "      <th>2</th>\n",
       "      <td>foo</td>\n",
       "      <td>bar</td>\n",
       "      <td>qux</td>\n",
       "      <td>0.644316</td>\n",
       "      <td>1</td>\n",
       "      <td>0.352139</td>\n",
       "      <td>1</td>\n",
       "      <td>False</td>\n",
       "      <td>2001-01-02</td>\n",
       "      <td>2015-01-03</td>\n",
       "      <td>2011-06-24</td>\n",
       "      <td>2 days</td>\n",
       "    </tr>\n",
       "  </tbody>\n",
       "</table>\n",
       "</div>"
      ],
      "text/plain": [
       "  str1 str2 str3   float64  int64   float32  int8   bool      date1  \\\n",
       "0  foo  bar  qux  0.208548      1  0.143929     1  False 2001-01-02   \n",
       "1  foo  bar  qux  0.271333      1  0.710527     1  False 2001-01-02   \n",
       "2  foo  bar  qux  0.644316      1  0.352139     1  False 2001-01-02   \n",
       "\n",
       "       date2      date3  delta  \n",
       "0 2015-01-01 2011-06-24 0 days  \n",
       "1 2015-01-02 2011-06-24 1 days  \n",
       "2 2015-01-03 2011-06-24 2 days  "
      ]
     },
     "execution_count": 2,
     "metadata": {},
     "output_type": "execute_result"
    }
   ],
   "source": [
    "# hide\n",
    "\n",
    "dft = pd.DataFrame(\n",
    "    {\n",
    "        \"str1\": \"foo\",\n",
    "        \"str2\": pd.Series([\"bar\"] * 3).astype(\"string\"),\n",
    "        \"str3\": pd.Series([\"qux\"] * 3).astype(\"category\"),\n",
    "        \"float64\": np.random.rand(3),\n",
    "        \"int64\": 1,\n",
    "        \"float32\": pd.Series(np.random.rand(3)).astype(\"float32\"),\n",
    "        \"int8\": pd.Series([1] * 3, dtype=\"int8\"),\n",
    "        \"bool\": False,\n",
    "        \"date1\": pd.Timestamp(\"20010102\"),\n",
    "        \"date2\": pd.date_range(\"1/1/2015\", periods=3),\n",
    "        \"date3\": np.datetime64('2011-06-24'),\n",
    "        \"delta\": [pd.Timedelta(days=i) for i in range(3)]\n",
    "        \n",
    "    }\n",
    ")\n",
    "dft"
   ]
  },
  {
   "cell_type": "code",
   "execution_count": 3,
   "metadata": {},
   "outputs": [
    {
     "data": {
      "text/plain": [
       "str1        object\n",
       "str2        object\n",
       "str3        object\n",
       "float64    float64\n",
       "int64        int64\n",
       "float32    float64\n",
       "int8         int64\n",
       "bool          bool\n",
       "date1       object\n",
       "date2       object\n",
       "date3       object\n",
       "delta       object\n",
       "dtype: object"
      ]
     },
     "execution_count": 3,
     "metadata": {},
     "output_type": "execute_result"
    }
   ],
   "source": [
    "# hide\n",
    "dft.to_csv('datatypes_file.csv',index=False)\n",
    "dfc = pd.read_csv('datatypes_file.csv')\n",
    "dfc.dtypes"
   ]
  },
  {
   "cell_type": "code",
   "execution_count": 4,
   "metadata": {},
   "outputs": [
    {
     "data": {
      "text/html": [
       "<div>\n",
       "<style scoped>\n",
       "    .dataframe tbody tr th:only-of-type {\n",
       "        vertical-align: middle;\n",
       "    }\n",
       "\n",
       "    .dataframe tbody tr th {\n",
       "        vertical-align: top;\n",
       "    }\n",
       "\n",
       "    .dataframe thead th {\n",
       "        text-align: right;\n",
       "    }\n",
       "</style>\n",
       "<table border=\"1\" class=\"dataframe\">\n",
       "  <thead>\n",
       "    <tr style=\"text-align: right;\">\n",
       "      <th></th>\n",
       "      <th>str1</th>\n",
       "      <th>str2</th>\n",
       "      <th>str3</th>\n",
       "      <th>float64</th>\n",
       "      <th>int64</th>\n",
       "      <th>float32</th>\n",
       "      <th>int8</th>\n",
       "      <th>bool</th>\n",
       "      <th>date1</th>\n",
       "      <th>date2</th>\n",
       "      <th>date3</th>\n",
       "      <th>delta</th>\n",
       "    </tr>\n",
       "  </thead>\n",
       "  <tbody>\n",
       "    <tr>\n",
       "      <th>0</th>\n",
       "      <td>foo</td>\n",
       "      <td>bar</td>\n",
       "      <td>qux</td>\n",
       "      <td>0.208548</td>\n",
       "      <td>1</td>\n",
       "      <td>0.143929</td>\n",
       "      <td>1</td>\n",
       "      <td>False</td>\n",
       "      <td>2001-01-02</td>\n",
       "      <td>2015-01-01</td>\n",
       "      <td>2011-06-24</td>\n",
       "      <td>0 days</td>\n",
       "    </tr>\n",
       "    <tr>\n",
       "      <th>1</th>\n",
       "      <td>foo</td>\n",
       "      <td>bar</td>\n",
       "      <td>qux</td>\n",
       "      <td>0.271333</td>\n",
       "      <td>1</td>\n",
       "      <td>0.710527</td>\n",
       "      <td>1</td>\n",
       "      <td>False</td>\n",
       "      <td>2001-01-02</td>\n",
       "      <td>2015-01-02</td>\n",
       "      <td>2011-06-24</td>\n",
       "      <td>1 days</td>\n",
       "    </tr>\n",
       "    <tr>\n",
       "      <th>2</th>\n",
       "      <td>foo</td>\n",
       "      <td>bar</td>\n",
       "      <td>qux</td>\n",
       "      <td>0.644316</td>\n",
       "      <td>1</td>\n",
       "      <td>0.352139</td>\n",
       "      <td>1</td>\n",
       "      <td>False</td>\n",
       "      <td>2001-01-02</td>\n",
       "      <td>2015-01-03</td>\n",
       "      <td>2011-06-24</td>\n",
       "      <td>2 days</td>\n",
       "    </tr>\n",
       "  </tbody>\n",
       "</table>\n",
       "</div>"
      ],
      "text/plain": [
       "  str1 str2 str3   float64  int64   float32  int8   bool      date1  \\\n",
       "0  foo  bar  qux  0.208548      1  0.143929     1  False 2001-01-02   \n",
       "1  foo  bar  qux  0.271333      1  0.710527     1  False 2001-01-02   \n",
       "2  foo  bar  qux  0.644316      1  0.352139     1  False 2001-01-02   \n",
       "\n",
       "       date2      date3  delta  \n",
       "0 2015-01-01 2011-06-24 0 days  \n",
       "1 2015-01-02 2011-06-24 1 days  \n",
       "2 2015-01-03 2011-06-24 2 days  "
      ]
     },
     "execution_count": 4,
     "metadata": {},
     "output_type": "execute_result"
    }
   ],
   "source": [
    "# hide \n",
    "dft = pd.read_csv('datatypes_file.csv', dtype={\n",
    "    \"str2\": \"string\",\n",
    "    \"str3\": \"category\",\n",
    "    \"float32\": np.float32,\n",
    "    \"bool\": np.bool\n",
    "}, parse_dates=['date1', 'date2'], converters={'delta': pd.to_timedelta})\n",
    "\n",
    "dft['str2'].astype('string', copy=False) # Explicitly convert dtype\n",
    "dft['int8'] = pd.to_numeric(dft['int8'], errors=\"coerce\", downcast=\"integer\") # Set invalid to nan and smallest dtype\n",
    "dft['date3'] = pd.to_datetime(dft['date3'], format='%Y-%m-%d') # might be faster if date format is not standard\n",
    "dft['delta'] = pd.to_timedelta(dft['delta']) # Another way\n",
    "\n",
    "dft"
   ]
  },
  {
   "cell_type": "code",
   "execution_count": 5,
   "metadata": {},
   "outputs": [
    {
     "data": {
      "text/plain": [
       "str1                object\n",
       "str2                string\n",
       "str3              category\n",
       "float64            float64\n",
       "int64                int64\n",
       "float32            float32\n",
       "int8                  int8\n",
       "bool                  bool\n",
       "date1       datetime64[ns]\n",
       "date2       datetime64[ns]\n",
       "date3       datetime64[ns]\n",
       "delta      timedelta64[ns]\n",
       "dtype: object"
      ]
     },
     "execution_count": 5,
     "metadata": {},
     "output_type": "execute_result"
    }
   ],
   "source": [
    "# hide\n",
    "dft.dtypes"
   ]
  },
  {
   "cell_type": "code",
   "execution_count": 6,
   "metadata": {},
   "outputs": [
    {
     "data": {
      "text/plain": [
       "Index      128\n",
       "str1       180\n",
       "str2       180\n",
       "str3       180\n",
       "float64     24\n",
       "int64       24\n",
       "float32     24\n",
       "int8        24\n",
       "bool         3\n",
       "date1      201\n",
       "date2      201\n",
       "date3      201\n",
       "delta      189\n",
       "dtype: int64"
      ]
     },
     "execution_count": 6,
     "metadata": {},
     "output_type": "execute_result"
    }
   ],
   "source": [
    "dfc.memory_usage(deep=True)"
   ]
  },
  {
   "cell_type": "code",
   "execution_count": 7,
   "metadata": {},
   "outputs": [
    {
     "data": {
      "text/plain": [
       "Index      128\n",
       "str1       180\n",
       "str2       180\n",
       "str3        63\n",
       "float64     24\n",
       "int64       24\n",
       "float32     12\n",
       "int8         3\n",
       "bool         3\n",
       "date1       24\n",
       "date2       24\n",
       "date3       24\n",
       "delta       24\n",
       "dtype: int64"
      ]
     },
     "execution_count": 7,
     "metadata": {},
     "output_type": "execute_result"
    }
   ],
   "source": [
    "dft.memory_usage(deep=True)"
   ]
  }
 ],
 "metadata": {
  "kernelspec": {
   "display_name": "Python 3",
   "language": "python",
   "name": "python3"
  },
  "language_info": {
   "codemirror_mode": {
    "name": "ipython",
    "version": 3
   },
   "file_extension": ".py",
   "mimetype": "text/x-python",
   "name": "python",
   "nbconvert_exporter": "python",
   "pygments_lexer": "ipython3",
   "version": "3.8.2"
  }
 },
 "nbformat": 4,
 "nbformat_minor": 2
}
