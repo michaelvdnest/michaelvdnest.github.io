{
 "metadata": {
  "language_info": {
   "codemirror_mode": {
    "name": "ipython",
    "version": 3
   },
   "file_extension": ".py",
   "mimetype": "text/x-python",
   "name": "python",
   "nbconvert_exporter": "python",
   "pygments_lexer": "ipython3",
   "version": "3.8.2-final"
  },
  "orig_nbformat": 2,
  "kernelspec": {
   "name": "python3",
   "display_name": "Python 3",
   "language": "python"
  }
 },
 "nbformat": 4,
 "nbformat_minor": 2,
 "cells": [
  {
   "cell_type": "code",
   "execution_count": 1,
   "metadata": {},
   "outputs": [],
   "source": [
    "import pandas as pd\n",
    "import numpy as np\n",
    "import matplotlib.pyplot as plt\n",
    "%matplotlib inline\n",
    "\n",
    "dft = pd.DataFrame(\n",
    "    {\n",
    "        \"str1\": \"foo\",\n",
    "        \"str2\": pd.Series([\"bar\"] * 3).astype(\"string\"),\n",
    "        \"str3\": pd.Series([\"qux\"] * 3).astype(\"category\"),\n",
    "        \"float64\": np.random.rand(3),\n",
    "        \"int64\": 1,\n",
    "        \"float32\": pd.Series(np.random.rand(3)).astype(\"float32\"),\n",
    "        \"int8\": pd.Series([1] * 3, dtype=\"int8\"),\n",
    "        \"bool\": False,\n",
    "        \"date1\": pd.Timestamp(\"20010102\"),\n",
    "        \"date2\": pd.date_range(\"1/1/2015\", periods=3),\n",
    "        \"date3\": np.datetime64('2011-06-24'),\n",
    "        \"delta\": [pd.Timedelta(days=i) for i in range(3)]\n",
    "        \n",
    "    }\n",
    ")\n"
   ]
  },
  {
   "cell_type": "code",
   "execution_count": 2,
   "metadata": {},
   "outputs": [
    {
     "output_type": "execute_result",
     "data": {
      "text/plain": [
       "  str1 str2 str3   float64  int64   float32  int8   bool      date1  \\\n",
       "0  foo  bar  qux  0.673861      1  0.891567     1  False 2001-01-02   \n",
       "1  foo  bar  qux  0.790584      1  0.846940     1  False 2001-01-02   \n",
       "2  foo  bar  qux  0.479642      1  0.223100     1  False 2001-01-02   \n",
       "\n",
       "       date2      date3  delta  \n",
       "0 2015-01-01 2011-06-24 0 days  \n",
       "1 2015-01-02 2011-06-24 1 days  \n",
       "2 2015-01-03 2011-06-24 2 days  "
      ],
      "text/html": "<div>\n<style scoped>\n    .dataframe tbody tr th:only-of-type {\n        vertical-align: middle;\n    }\n\n    .dataframe tbody tr th {\n        vertical-align: top;\n    }\n\n    .dataframe thead th {\n        text-align: right;\n    }\n</style>\n<table border=\"1\" class=\"dataframe\">\n  <thead>\n    <tr style=\"text-align: right;\">\n      <th></th>\n      <th>str1</th>\n      <th>str2</th>\n      <th>str3</th>\n      <th>float64</th>\n      <th>int64</th>\n      <th>float32</th>\n      <th>int8</th>\n      <th>bool</th>\n      <th>date1</th>\n      <th>date2</th>\n      <th>date3</th>\n      <th>delta</th>\n    </tr>\n  </thead>\n  <tbody>\n    <tr>\n      <th>0</th>\n      <td>foo</td>\n      <td>bar</td>\n      <td>qux</td>\n      <td>0.673861</td>\n      <td>1</td>\n      <td>0.891567</td>\n      <td>1</td>\n      <td>False</td>\n      <td>2001-01-02</td>\n      <td>2015-01-01</td>\n      <td>2011-06-24</td>\n      <td>0 days</td>\n    </tr>\n    <tr>\n      <th>1</th>\n      <td>foo</td>\n      <td>bar</td>\n      <td>qux</td>\n      <td>0.790584</td>\n      <td>1</td>\n      <td>0.846940</td>\n      <td>1</td>\n      <td>False</td>\n      <td>2001-01-02</td>\n      <td>2015-01-02</td>\n      <td>2011-06-24</td>\n      <td>1 days</td>\n    </tr>\n    <tr>\n      <th>2</th>\n      <td>foo</td>\n      <td>bar</td>\n      <td>qux</td>\n      <td>0.479642</td>\n      <td>1</td>\n      <td>0.223100</td>\n      <td>1</td>\n      <td>False</td>\n      <td>2001-01-02</td>\n      <td>2015-01-03</td>\n      <td>2011-06-24</td>\n      <td>2 days</td>\n    </tr>\n  </tbody>\n</table>\n</div>"
     },
     "metadata": {},
     "execution_count": 2
    }
   ],
   "source": [
    "dft"
   ]
  },
  {
   "cell_type": "code",
   "execution_count": 3,
   "metadata": {},
   "outputs": [
    {
     "output_type": "execute_result",
     "data": {
      "text/plain": [
       "str1        object\n",
       "str2        object\n",
       "str3        object\n",
       "float64    float64\n",
       "int64        int64\n",
       "float32    float64\n",
       "int8         int64\n",
       "bool          bool\n",
       "date1       object\n",
       "date2       object\n",
       "date3       object\n",
       "delta       object\n",
       "dtype: object"
      ]
     },
     "metadata": {},
     "execution_count": 3
    }
   ],
   "source": [
    "dft.to_csv('datatypes_file.csv',index=False)\n",
    "dfc = pd.read_csv('datatypes_file.csv')\n",
    "dfc.dtypes"
   ]
  },
  {
   "source": [
    "pandas provides various ways to specify column data types."
   ],
   "cell_type": "markdown",
   "metadata": {}
  },
  {
   "cell_type": "code",
   "execution_count": 4,
   "metadata": {},
   "outputs": [
    {
     "output_type": "execute_result",
     "data": {
      "text/plain": [
       "  str1 str2 str3   float64  int64   float32  int8   bool      date1  \\\n",
       "0  foo  bar  qux  0.673861      1  0.891567     1  False 2001-01-02   \n",
       "1  foo  bar  qux  0.790584      1  0.846940     1  False 2001-01-02   \n",
       "2  foo  bar  qux  0.479642      1  0.223100     1  False 2001-01-02   \n",
       "\n",
       "       date2      date3  delta  \n",
       "0 2015-01-01 2011-06-24 0 days  \n",
       "1 2015-01-02 2011-06-24 1 days  \n",
       "2 2015-01-03 2011-06-24 2 days  "
      ],
      "text/html": "<div>\n<style scoped>\n    .dataframe tbody tr th:only-of-type {\n        vertical-align: middle;\n    }\n\n    .dataframe tbody tr th {\n        vertical-align: top;\n    }\n\n    .dataframe thead th {\n        text-align: right;\n    }\n</style>\n<table border=\"1\" class=\"dataframe\">\n  <thead>\n    <tr style=\"text-align: right;\">\n      <th></th>\n      <th>str1</th>\n      <th>str2</th>\n      <th>str3</th>\n      <th>float64</th>\n      <th>int64</th>\n      <th>float32</th>\n      <th>int8</th>\n      <th>bool</th>\n      <th>date1</th>\n      <th>date2</th>\n      <th>date3</th>\n      <th>delta</th>\n    </tr>\n  </thead>\n  <tbody>\n    <tr>\n      <th>0</th>\n      <td>foo</td>\n      <td>bar</td>\n      <td>qux</td>\n      <td>0.673861</td>\n      <td>1</td>\n      <td>0.891567</td>\n      <td>1</td>\n      <td>False</td>\n      <td>2001-01-02</td>\n      <td>2015-01-01</td>\n      <td>2011-06-24</td>\n      <td>0 days</td>\n    </tr>\n    <tr>\n      <th>1</th>\n      <td>foo</td>\n      <td>bar</td>\n      <td>qux</td>\n      <td>0.790584</td>\n      <td>1</td>\n      <td>0.846940</td>\n      <td>1</td>\n      <td>False</td>\n      <td>2001-01-02</td>\n      <td>2015-01-02</td>\n      <td>2011-06-24</td>\n      <td>1 days</td>\n    </tr>\n    <tr>\n      <th>2</th>\n      <td>foo</td>\n      <td>bar</td>\n      <td>qux</td>\n      <td>0.479642</td>\n      <td>1</td>\n      <td>0.223100</td>\n      <td>1</td>\n      <td>False</td>\n      <td>2001-01-02</td>\n      <td>2015-01-03</td>\n      <td>2011-06-24</td>\n      <td>2 days</td>\n    </tr>\n  </tbody>\n</table>\n</div>"
     },
     "metadata": {},
     "execution_count": 4
    }
   ],
   "source": [
    "# Indicate the data types for columns\n",
    "dft = pd.read_csv('datatypes_file.csv',\n",
    "    dtype={\n",
    "        \"str2\": \"string\",\n",
    "        \"str3\": \"category\",\n",
    "        \"float32\": np.float32,\n",
    "        \"bool\": np.bool\n",
    "    }, \n",
    "    parse_dates=['date1', 'date2'],\n",
    "    converters={'delta': pd.to_timedelta})\n",
    "\n",
    "# Explicitly convert dtype.\n",
    "dft['str2'].astype('string', copy=False) \n",
    "\n",
    "# Set invalid to nan and smallest dtype.\n",
    "dft['int8'] = pd.to_numeric(dft['int8'], errors=\"coerce\",\n",
    "                            downcast=\"integer\") \n",
    "\n",
    "# Might be faster if date format is not standard.\n",
    "dft['date3'] = pd.to_datetime(dft['date3'], format='%Y-%m-%d') \n",
    "\n",
    "# Explicit conversion of the column. Might be faster than using a converter.\n",
    "dft['delta'] = pd.to_timedelta(dft['delta'])\n",
    "\n",
    "dft"
   ]
  }
 ]
}