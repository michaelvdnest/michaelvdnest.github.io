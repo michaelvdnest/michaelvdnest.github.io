{
 "cells": [
  {
   "cell_type": "code",
   "execution_count": 93,
   "metadata": {},
   "outputs": [],
   "source": [
    "import pandas as pd\n",
    "import numpy as np\n",
    "import matplotlib.pyplot as plt\n",
    "%matplotlib inline\n",
    "\n",
    "pd.set_option('display.min_rows', 10)\n",
    "pd.set_option('display.max_rows', 10)"
   ]
  },
  {
   "cell_type": "code",
   "execution_count": 94,
   "metadata": {},
   "outputs": [],
   "source": [
    "# hide\n",
    "df = pd.read_csv('./tidy-data/weather.csv')"
   ]
  },
  {
   "cell_type": "code",
   "execution_count": 95,
   "metadata": {},
   "outputs": [
    {
     "output_type": "execute_result",
     "data": {
      "text/plain": [
       "        id  year  month element    d2    d3    d5   d10   d11   d16   d23  \\\n",
       "0  MX17004  2010      1    tmin   NaN   NaN   NaN   NaN   NaN   NaN   NaN   \n",
       "1  MX17004  2010      1    tmax   NaN   NaN   NaN   NaN   NaN   NaN   NaN   \n",
       "2  MX17004  2010      2    tmin  14.4  14.4   NaN   NaN  13.4   NaN  10.7   \n",
       "3  MX17004  2010      2    tmax  27.3  24.1   NaN   NaN  29.7   NaN  29.9   \n",
       "4  MX17004  2010      3    tmin   NaN   NaN  14.2  16.8   NaN  17.6   NaN   \n",
       "5  MX17004  2010      3    tmax   NaN   NaN  32.1  34.5   NaN  31.1   NaN   \n",
       "6  MX17004  2010      4    tmin   NaN   NaN   NaN   NaN   NaN   NaN   NaN   \n",
       "7  MX17004  2010      4    tmax   NaN   NaN   NaN   NaN   NaN   NaN   NaN   \n",
       "8  MX17004  2010      5    tmin   NaN   NaN   NaN   NaN   NaN   NaN   NaN   \n",
       "9  MX17004  2010      5    tmax   NaN   NaN   NaN   NaN   NaN   NaN   NaN   \n",
       "\n",
       "    d27   d30  \n",
       "0   NaN  14.5  \n",
       "1   NaN  27.8  \n",
       "2   NaN   NaN  \n",
       "3   NaN   NaN  \n",
       "4   NaN   NaN  \n",
       "5   NaN   NaN  \n",
       "6  16.7   NaN  \n",
       "7  36.3   NaN  \n",
       "8  18.2   NaN  \n",
       "9  33.2   NaN  "
      ],
      "text/html": "<div>\n<style scoped>\n    .dataframe tbody tr th:only-of-type {\n        vertical-align: middle;\n    }\n\n    .dataframe tbody tr th {\n        vertical-align: top;\n    }\n\n    .dataframe thead th {\n        text-align: right;\n    }\n</style>\n<table border=\"1\" class=\"dataframe\">\n  <thead>\n    <tr style=\"text-align: right;\">\n      <th></th>\n      <th>id</th>\n      <th>year</th>\n      <th>month</th>\n      <th>element</th>\n      <th>d2</th>\n      <th>d3</th>\n      <th>d5</th>\n      <th>d10</th>\n      <th>d11</th>\n      <th>d16</th>\n      <th>d23</th>\n      <th>d27</th>\n      <th>d30</th>\n    </tr>\n  </thead>\n  <tbody>\n    <tr>\n      <th>0</th>\n      <td>MX17004</td>\n      <td>2010</td>\n      <td>1</td>\n      <td>tmin</td>\n      <td>NaN</td>\n      <td>NaN</td>\n      <td>NaN</td>\n      <td>NaN</td>\n      <td>NaN</td>\n      <td>NaN</td>\n      <td>NaN</td>\n      <td>NaN</td>\n      <td>14.5</td>\n    </tr>\n    <tr>\n      <th>1</th>\n      <td>MX17004</td>\n      <td>2010</td>\n      <td>1</td>\n      <td>tmax</td>\n      <td>NaN</td>\n      <td>NaN</td>\n      <td>NaN</td>\n      <td>NaN</td>\n      <td>NaN</td>\n      <td>NaN</td>\n      <td>NaN</td>\n      <td>NaN</td>\n      <td>27.8</td>\n    </tr>\n    <tr>\n      <th>2</th>\n      <td>MX17004</td>\n      <td>2010</td>\n      <td>2</td>\n      <td>tmin</td>\n      <td>14.4</td>\n      <td>14.4</td>\n      <td>NaN</td>\n      <td>NaN</td>\n      <td>13.4</td>\n      <td>NaN</td>\n      <td>10.7</td>\n      <td>NaN</td>\n      <td>NaN</td>\n    </tr>\n    <tr>\n      <th>3</th>\n      <td>MX17004</td>\n      <td>2010</td>\n      <td>2</td>\n      <td>tmax</td>\n      <td>27.3</td>\n      <td>24.1</td>\n      <td>NaN</td>\n      <td>NaN</td>\n      <td>29.7</td>\n      <td>NaN</td>\n      <td>29.9</td>\n      <td>NaN</td>\n      <td>NaN</td>\n    </tr>\n    <tr>\n      <th>4</th>\n      <td>MX17004</td>\n      <td>2010</td>\n      <td>3</td>\n      <td>tmin</td>\n      <td>NaN</td>\n      <td>NaN</td>\n      <td>14.2</td>\n      <td>16.8</td>\n      <td>NaN</td>\n      <td>17.6</td>\n      <td>NaN</td>\n      <td>NaN</td>\n      <td>NaN</td>\n    </tr>\n    <tr>\n      <th>5</th>\n      <td>MX17004</td>\n      <td>2010</td>\n      <td>3</td>\n      <td>tmax</td>\n      <td>NaN</td>\n      <td>NaN</td>\n      <td>32.1</td>\n      <td>34.5</td>\n      <td>NaN</td>\n      <td>31.1</td>\n      <td>NaN</td>\n      <td>NaN</td>\n      <td>NaN</td>\n    </tr>\n    <tr>\n      <th>6</th>\n      <td>MX17004</td>\n      <td>2010</td>\n      <td>4</td>\n      <td>tmin</td>\n      <td>NaN</td>\n      <td>NaN</td>\n      <td>NaN</td>\n      <td>NaN</td>\n      <td>NaN</td>\n      <td>NaN</td>\n      <td>NaN</td>\n      <td>16.7</td>\n      <td>NaN</td>\n    </tr>\n    <tr>\n      <th>7</th>\n      <td>MX17004</td>\n      <td>2010</td>\n      <td>4</td>\n      <td>tmax</td>\n      <td>NaN</td>\n      <td>NaN</td>\n      <td>NaN</td>\n      <td>NaN</td>\n      <td>NaN</td>\n      <td>NaN</td>\n      <td>NaN</td>\n      <td>36.3</td>\n      <td>NaN</td>\n    </tr>\n    <tr>\n      <th>8</th>\n      <td>MX17004</td>\n      <td>2010</td>\n      <td>5</td>\n      <td>tmin</td>\n      <td>NaN</td>\n      <td>NaN</td>\n      <td>NaN</td>\n      <td>NaN</td>\n      <td>NaN</td>\n      <td>NaN</td>\n      <td>NaN</td>\n      <td>18.2</td>\n      <td>NaN</td>\n    </tr>\n    <tr>\n      <th>9</th>\n      <td>MX17004</td>\n      <td>2010</td>\n      <td>5</td>\n      <td>tmax</td>\n      <td>NaN</td>\n      <td>NaN</td>\n      <td>NaN</td>\n      <td>NaN</td>\n      <td>NaN</td>\n      <td>NaN</td>\n      <td>NaN</td>\n      <td>33.2</td>\n      <td>NaN</td>\n    </tr>\n  </tbody>\n</table>\n</div>"
     },
     "metadata": {},
     "execution_count": 95
    }
   ],
   "source": [
    "df"
   ]
  },
  {
   "cell_type": "code",
   "execution_count": 96,
   "metadata": {},
   "outputs": [
    {
     "output_type": "execute_result",
     "data": {
      "text/plain": [
       "         id  year  month element day_raw  value\n",
       "2   MX17004  2010      2    tmin      d2   14.4\n",
       "3   MX17004  2010      2    tmax      d2   27.3\n",
       "12  MX17004  2010      2    tmin      d3   14.4\n",
       "13  MX17004  2010      2    tmax      d3   24.1\n",
       "24  MX17004  2010      3    tmin      d5   14.2\n",
       "..      ...   ...    ...     ...     ...    ...\n",
       "77  MX17004  2010      4    tmax     d27   36.3\n",
       "78  MX17004  2010      5    tmin     d27   18.2\n",
       "79  MX17004  2010      5    tmax     d27   33.2\n",
       "80  MX17004  2010      1    tmin     d30   14.5\n",
       "81  MX17004  2010      1    tmax     d30   27.8\n",
       "\n",
       "[20 rows x 6 columns]"
      ],
      "text/html": "<div>\n<style scoped>\n    .dataframe tbody tr th:only-of-type {\n        vertical-align: middle;\n    }\n\n    .dataframe tbody tr th {\n        vertical-align: top;\n    }\n\n    .dataframe thead th {\n        text-align: right;\n    }\n</style>\n<table border=\"1\" class=\"dataframe\">\n  <thead>\n    <tr style=\"text-align: right;\">\n      <th></th>\n      <th>id</th>\n      <th>year</th>\n      <th>month</th>\n      <th>element</th>\n      <th>day_raw</th>\n      <th>value</th>\n    </tr>\n  </thead>\n  <tbody>\n    <tr>\n      <th>2</th>\n      <td>MX17004</td>\n      <td>2010</td>\n      <td>2</td>\n      <td>tmin</td>\n      <td>d2</td>\n      <td>14.4</td>\n    </tr>\n    <tr>\n      <th>3</th>\n      <td>MX17004</td>\n      <td>2010</td>\n      <td>2</td>\n      <td>tmax</td>\n      <td>d2</td>\n      <td>27.3</td>\n    </tr>\n    <tr>\n      <th>12</th>\n      <td>MX17004</td>\n      <td>2010</td>\n      <td>2</td>\n      <td>tmin</td>\n      <td>d3</td>\n      <td>14.4</td>\n    </tr>\n    <tr>\n      <th>13</th>\n      <td>MX17004</td>\n      <td>2010</td>\n      <td>2</td>\n      <td>tmax</td>\n      <td>d3</td>\n      <td>24.1</td>\n    </tr>\n    <tr>\n      <th>24</th>\n      <td>MX17004</td>\n      <td>2010</td>\n      <td>3</td>\n      <td>tmin</td>\n      <td>d5</td>\n      <td>14.2</td>\n    </tr>\n    <tr>\n      <th>...</th>\n      <td>...</td>\n      <td>...</td>\n      <td>...</td>\n      <td>...</td>\n      <td>...</td>\n      <td>...</td>\n    </tr>\n    <tr>\n      <th>77</th>\n      <td>MX17004</td>\n      <td>2010</td>\n      <td>4</td>\n      <td>tmax</td>\n      <td>d27</td>\n      <td>36.3</td>\n    </tr>\n    <tr>\n      <th>78</th>\n      <td>MX17004</td>\n      <td>2010</td>\n      <td>5</td>\n      <td>tmin</td>\n      <td>d27</td>\n      <td>18.2</td>\n    </tr>\n    <tr>\n      <th>79</th>\n      <td>MX17004</td>\n      <td>2010</td>\n      <td>5</td>\n      <td>tmax</td>\n      <td>d27</td>\n      <td>33.2</td>\n    </tr>\n    <tr>\n      <th>80</th>\n      <td>MX17004</td>\n      <td>2010</td>\n      <td>1</td>\n      <td>tmin</td>\n      <td>d30</td>\n      <td>14.5</td>\n    </tr>\n    <tr>\n      <th>81</th>\n      <td>MX17004</td>\n      <td>2010</td>\n      <td>1</td>\n      <td>tmax</td>\n      <td>d30</td>\n      <td>27.8</td>\n    </tr>\n  </tbody>\n</table>\n<p>20 rows × 6 columns</p>\n</div>"
     },
     "metadata": {},
     "execution_count": 96
    }
   ],
   "source": [
    "df = pd.melt(df, id_vars=['id', 'year', 'month', 'element'],\n",
    "                 value_vars=list(df.columns)[4:],\n",
    "                 var_name='day_raw', value_name='value')\n",
    "df = df.dropna(subset=['value'])\n",
    "df"
   ]
  },
  {
   "cell_type": "code",
   "execution_count": 97,
   "metadata": {},
   "outputs": [
    {
     "output_type": "execute_result",
     "data": {
      "text/plain": [
       "         id  year  month element day_raw  value day\n",
       "2   MX17004  2010      2    tmin      d2   14.4   2\n",
       "3   MX17004  2010      2    tmax      d2   27.3   2\n",
       "12  MX17004  2010      2    tmin      d3   14.4   3\n",
       "13  MX17004  2010      2    tmax      d3   24.1   3\n",
       "24  MX17004  2010      3    tmin      d5   14.2   5\n",
       "..      ...   ...    ...     ...     ...    ...  ..\n",
       "77  MX17004  2010      4    tmax     d27   36.3  27\n",
       "78  MX17004  2010      5    tmin     d27   18.2  27\n",
       "79  MX17004  2010      5    tmax     d27   33.2  27\n",
       "80  MX17004  2010      1    tmin     d30   14.5  30\n",
       "81  MX17004  2010      1    tmax     d30   27.8  30\n",
       "\n",
       "[20 rows x 7 columns]"
      ],
      "text/html": "<div>\n<style scoped>\n    .dataframe tbody tr th:only-of-type {\n        vertical-align: middle;\n    }\n\n    .dataframe tbody tr th {\n        vertical-align: top;\n    }\n\n    .dataframe thead th {\n        text-align: right;\n    }\n</style>\n<table border=\"1\" class=\"dataframe\">\n  <thead>\n    <tr style=\"text-align: right;\">\n      <th></th>\n      <th>id</th>\n      <th>year</th>\n      <th>month</th>\n      <th>element</th>\n      <th>day_raw</th>\n      <th>value</th>\n      <th>day</th>\n    </tr>\n  </thead>\n  <tbody>\n    <tr>\n      <th>2</th>\n      <td>MX17004</td>\n      <td>2010</td>\n      <td>2</td>\n      <td>tmin</td>\n      <td>d2</td>\n      <td>14.4</td>\n      <td>2</td>\n    </tr>\n    <tr>\n      <th>3</th>\n      <td>MX17004</td>\n      <td>2010</td>\n      <td>2</td>\n      <td>tmax</td>\n      <td>d2</td>\n      <td>27.3</td>\n      <td>2</td>\n    </tr>\n    <tr>\n      <th>12</th>\n      <td>MX17004</td>\n      <td>2010</td>\n      <td>2</td>\n      <td>tmin</td>\n      <td>d3</td>\n      <td>14.4</td>\n      <td>3</td>\n    </tr>\n    <tr>\n      <th>13</th>\n      <td>MX17004</td>\n      <td>2010</td>\n      <td>2</td>\n      <td>tmax</td>\n      <td>d3</td>\n      <td>24.1</td>\n      <td>3</td>\n    </tr>\n    <tr>\n      <th>24</th>\n      <td>MX17004</td>\n      <td>2010</td>\n      <td>3</td>\n      <td>tmin</td>\n      <td>d5</td>\n      <td>14.2</td>\n      <td>5</td>\n    </tr>\n    <tr>\n      <th>...</th>\n      <td>...</td>\n      <td>...</td>\n      <td>...</td>\n      <td>...</td>\n      <td>...</td>\n      <td>...</td>\n      <td>...</td>\n    </tr>\n    <tr>\n      <th>77</th>\n      <td>MX17004</td>\n      <td>2010</td>\n      <td>4</td>\n      <td>tmax</td>\n      <td>d27</td>\n      <td>36.3</td>\n      <td>27</td>\n    </tr>\n    <tr>\n      <th>78</th>\n      <td>MX17004</td>\n      <td>2010</td>\n      <td>5</td>\n      <td>tmin</td>\n      <td>d27</td>\n      <td>18.2</td>\n      <td>27</td>\n    </tr>\n    <tr>\n      <th>79</th>\n      <td>MX17004</td>\n      <td>2010</td>\n      <td>5</td>\n      <td>tmax</td>\n      <td>d27</td>\n      <td>33.2</td>\n      <td>27</td>\n    </tr>\n    <tr>\n      <th>80</th>\n      <td>MX17004</td>\n      <td>2010</td>\n      <td>1</td>\n      <td>tmin</td>\n      <td>d30</td>\n      <td>14.5</td>\n      <td>30</td>\n    </tr>\n    <tr>\n      <th>81</th>\n      <td>MX17004</td>\n      <td>2010</td>\n      <td>1</td>\n      <td>tmax</td>\n      <td>d30</td>\n      <td>27.8</td>\n      <td>30</td>\n    </tr>\n  </tbody>\n</table>\n<p>20 rows × 7 columns</p>\n</div>"
     },
     "metadata": {},
     "execution_count": 97
    }
   ],
   "source": [
    "# Extracting day\n",
    "df[\"day\"] = df[\"day_raw\"].str.extract(\"d(\\d+)\", expand=False)\n",
    "df"
   ]
  },
  {
   "cell_type": "code",
   "execution_count": 98,
   "metadata": {},
   "outputs": [
    {
     "output_type": "execute_result",
     "data": {
      "text/plain": [
       "         id  year  month element day_raw  value  day       date\n",
       "2   MX17004  2010      2    tmin      d2   14.4    2 2010-02-02\n",
       "3   MX17004  2010      2    tmax      d2   27.3    2 2010-02-02\n",
       "12  MX17004  2010      2    tmin      d3   14.4    3 2010-02-03\n",
       "13  MX17004  2010      2    tmax      d3   24.1    3 2010-02-03\n",
       "24  MX17004  2010      3    tmin      d5   14.2    5 2010-03-05\n",
       "..      ...   ...    ...     ...     ...    ...  ...        ...\n",
       "77  MX17004  2010      4    tmax     d27   36.3   27 2010-04-27\n",
       "78  MX17004  2010      5    tmin     d27   18.2   27 2010-05-27\n",
       "79  MX17004  2010      5    tmax     d27   33.2   27 2010-05-27\n",
       "80  MX17004  2010      1    tmin     d30   14.5   30 2010-01-30\n",
       "81  MX17004  2010      1    tmax     d30   27.8   30 2010-01-30\n",
       "\n",
       "[20 rows x 8 columns]"
      ],
      "text/html": "<div>\n<style scoped>\n    .dataframe tbody tr th:only-of-type {\n        vertical-align: middle;\n    }\n\n    .dataframe tbody tr th {\n        vertical-align: top;\n    }\n\n    .dataframe thead th {\n        text-align: right;\n    }\n</style>\n<table border=\"1\" class=\"dataframe\">\n  <thead>\n    <tr style=\"text-align: right;\">\n      <th></th>\n      <th>id</th>\n      <th>year</th>\n      <th>month</th>\n      <th>element</th>\n      <th>day_raw</th>\n      <th>value</th>\n      <th>day</th>\n      <th>date</th>\n    </tr>\n  </thead>\n  <tbody>\n    <tr>\n      <th>2</th>\n      <td>MX17004</td>\n      <td>2010</td>\n      <td>2</td>\n      <td>tmin</td>\n      <td>d2</td>\n      <td>14.4</td>\n      <td>2</td>\n      <td>2010-02-02</td>\n    </tr>\n    <tr>\n      <th>3</th>\n      <td>MX17004</td>\n      <td>2010</td>\n      <td>2</td>\n      <td>tmax</td>\n      <td>d2</td>\n      <td>27.3</td>\n      <td>2</td>\n      <td>2010-02-02</td>\n    </tr>\n    <tr>\n      <th>12</th>\n      <td>MX17004</td>\n      <td>2010</td>\n      <td>2</td>\n      <td>tmin</td>\n      <td>d3</td>\n      <td>14.4</td>\n      <td>3</td>\n      <td>2010-02-03</td>\n    </tr>\n    <tr>\n      <th>13</th>\n      <td>MX17004</td>\n      <td>2010</td>\n      <td>2</td>\n      <td>tmax</td>\n      <td>d3</td>\n      <td>24.1</td>\n      <td>3</td>\n      <td>2010-02-03</td>\n    </tr>\n    <tr>\n      <th>24</th>\n      <td>MX17004</td>\n      <td>2010</td>\n      <td>3</td>\n      <td>tmin</td>\n      <td>d5</td>\n      <td>14.2</td>\n      <td>5</td>\n      <td>2010-03-05</td>\n    </tr>\n    <tr>\n      <th>...</th>\n      <td>...</td>\n      <td>...</td>\n      <td>...</td>\n      <td>...</td>\n      <td>...</td>\n      <td>...</td>\n      <td>...</td>\n      <td>...</td>\n    </tr>\n    <tr>\n      <th>77</th>\n      <td>MX17004</td>\n      <td>2010</td>\n      <td>4</td>\n      <td>tmax</td>\n      <td>d27</td>\n      <td>36.3</td>\n      <td>27</td>\n      <td>2010-04-27</td>\n    </tr>\n    <tr>\n      <th>78</th>\n      <td>MX17004</td>\n      <td>2010</td>\n      <td>5</td>\n      <td>tmin</td>\n      <td>d27</td>\n      <td>18.2</td>\n      <td>27</td>\n      <td>2010-05-27</td>\n    </tr>\n    <tr>\n      <th>79</th>\n      <td>MX17004</td>\n      <td>2010</td>\n      <td>5</td>\n      <td>tmax</td>\n      <td>d27</td>\n      <td>33.2</td>\n      <td>27</td>\n      <td>2010-05-27</td>\n    </tr>\n    <tr>\n      <th>80</th>\n      <td>MX17004</td>\n      <td>2010</td>\n      <td>1</td>\n      <td>tmin</td>\n      <td>d30</td>\n      <td>14.5</td>\n      <td>30</td>\n      <td>2010-01-30</td>\n    </tr>\n    <tr>\n      <th>81</th>\n      <td>MX17004</td>\n      <td>2010</td>\n      <td>1</td>\n      <td>tmax</td>\n      <td>d30</td>\n      <td>27.8</td>\n      <td>30</td>\n      <td>2010-01-30</td>\n    </tr>\n  </tbody>\n</table>\n<p>20 rows × 8 columns</p>\n</div>"
     },
     "metadata": {},
     "execution_count": 98
    }
   ],
   "source": [
    "import datetime\n",
    "\n",
    "# To numeric values\n",
    "df[[\"year\",\"month\",\"day\"]] = df[[\"year\",\"month\",\"day\"]].apply(lambda x: pd.to_numeric(x, errors='ignore'))\n",
    "\n",
    "# Create a date from the different columns\n",
    "def create_date_from_year_month_day(row):\n",
    "    return datetime.datetime(year=row[\"year\"], month=int(row[\"month\"]), day=row[\"day\"])\n",
    "\n",
    "df[\"date\"] = df.apply(lambda row: create_date_from_year_month_day(row), axis=1)\n",
    "\n",
    "df"
   ]
  },
  {
   "cell_type": "code",
   "execution_count": 99,
   "metadata": {},
   "outputs": [
    {
     "output_type": "execute_result",
     "data": {
      "text/plain": [
       "         id element  value       date\n",
       "2   MX17004    tmin   14.4 2010-02-02\n",
       "3   MX17004    tmax   27.3 2010-02-02\n",
       "12  MX17004    tmin   14.4 2010-02-03\n",
       "13  MX17004    tmax   24.1 2010-02-03\n",
       "24  MX17004    tmin   14.2 2010-03-05\n",
       "..      ...     ...    ...        ...\n",
       "77  MX17004    tmax   36.3 2010-04-27\n",
       "78  MX17004    tmin   18.2 2010-05-27\n",
       "79  MX17004    tmax   33.2 2010-05-27\n",
       "80  MX17004    tmin   14.5 2010-01-30\n",
       "81  MX17004    tmax   27.8 2010-01-30\n",
       "\n",
       "[20 rows x 4 columns]"
      ],
      "text/html": "<div>\n<style scoped>\n    .dataframe tbody tr th:only-of-type {\n        vertical-align: middle;\n    }\n\n    .dataframe tbody tr th {\n        vertical-align: top;\n    }\n\n    .dataframe thead th {\n        text-align: right;\n    }\n</style>\n<table border=\"1\" class=\"dataframe\">\n  <thead>\n    <tr style=\"text-align: right;\">\n      <th></th>\n      <th>id</th>\n      <th>element</th>\n      <th>value</th>\n      <th>date</th>\n    </tr>\n  </thead>\n  <tbody>\n    <tr>\n      <th>2</th>\n      <td>MX17004</td>\n      <td>tmin</td>\n      <td>14.4</td>\n      <td>2010-02-02</td>\n    </tr>\n    <tr>\n      <th>3</th>\n      <td>MX17004</td>\n      <td>tmax</td>\n      <td>27.3</td>\n      <td>2010-02-02</td>\n    </tr>\n    <tr>\n      <th>12</th>\n      <td>MX17004</td>\n      <td>tmin</td>\n      <td>14.4</td>\n      <td>2010-02-03</td>\n    </tr>\n    <tr>\n      <th>13</th>\n      <td>MX17004</td>\n      <td>tmax</td>\n      <td>24.1</td>\n      <td>2010-02-03</td>\n    </tr>\n    <tr>\n      <th>24</th>\n      <td>MX17004</td>\n      <td>tmin</td>\n      <td>14.2</td>\n      <td>2010-03-05</td>\n    </tr>\n    <tr>\n      <th>...</th>\n      <td>...</td>\n      <td>...</td>\n      <td>...</td>\n      <td>...</td>\n    </tr>\n    <tr>\n      <th>77</th>\n      <td>MX17004</td>\n      <td>tmax</td>\n      <td>36.3</td>\n      <td>2010-04-27</td>\n    </tr>\n    <tr>\n      <th>78</th>\n      <td>MX17004</td>\n      <td>tmin</td>\n      <td>18.2</td>\n      <td>2010-05-27</td>\n    </tr>\n    <tr>\n      <th>79</th>\n      <td>MX17004</td>\n      <td>tmax</td>\n      <td>33.2</td>\n      <td>2010-05-27</td>\n    </tr>\n    <tr>\n      <th>80</th>\n      <td>MX17004</td>\n      <td>tmin</td>\n      <td>14.5</td>\n      <td>2010-01-30</td>\n    </tr>\n    <tr>\n      <th>81</th>\n      <td>MX17004</td>\n      <td>tmax</td>\n      <td>27.8</td>\n      <td>2010-01-30</td>\n    </tr>\n  </tbody>\n</table>\n<p>20 rows × 4 columns</p>\n</div>"
     },
     "metadata": {},
     "execution_count": 99
    }
   ],
   "source": [
    "df = df.drop(['year',\"month\",\"day\", \"day_raw\"], axis=1)\n",
    "df"
   ]
  },
  {
   "cell_type": "code",
   "execution_count": 100,
   "metadata": {},
   "outputs": [
    {
     "output_type": "execute_result",
     "data": {
      "text/plain": [
       "element       id       date  tmax  tmin\n",
       "0        MX17004 2010-01-30  27.8  14.5\n",
       "1        MX17004 2010-02-02  27.3  14.4\n",
       "2        MX17004 2010-02-03  24.1  14.4\n",
       "3        MX17004 2010-02-11  29.7  13.4\n",
       "4        MX17004 2010-02-23  29.9  10.7\n",
       "5        MX17004 2010-03-05  32.1  14.2\n",
       "6        MX17004 2010-03-10  34.5  16.8\n",
       "7        MX17004 2010-03-16  31.1  17.6\n",
       "8        MX17004 2010-04-27  36.3  16.7\n",
       "9        MX17004 2010-05-27  33.2  18.2"
      ],
      "text/html": "<div>\n<style scoped>\n    .dataframe tbody tr th:only-of-type {\n        vertical-align: middle;\n    }\n\n    .dataframe tbody tr th {\n        vertical-align: top;\n    }\n\n    .dataframe thead th {\n        text-align: right;\n    }\n</style>\n<table border=\"1\" class=\"dataframe\">\n  <thead>\n    <tr style=\"text-align: right;\">\n      <th>element</th>\n      <th>id</th>\n      <th>date</th>\n      <th>tmax</th>\n      <th>tmin</th>\n    </tr>\n  </thead>\n  <tbody>\n    <tr>\n      <th>0</th>\n      <td>MX17004</td>\n      <td>2010-01-30</td>\n      <td>27.8</td>\n      <td>14.5</td>\n    </tr>\n    <tr>\n      <th>1</th>\n      <td>MX17004</td>\n      <td>2010-02-02</td>\n      <td>27.3</td>\n      <td>14.4</td>\n    </tr>\n    <tr>\n      <th>2</th>\n      <td>MX17004</td>\n      <td>2010-02-03</td>\n      <td>24.1</td>\n      <td>14.4</td>\n    </tr>\n    <tr>\n      <th>3</th>\n      <td>MX17004</td>\n      <td>2010-02-11</td>\n      <td>29.7</td>\n      <td>13.4</td>\n    </tr>\n    <tr>\n      <th>4</th>\n      <td>MX17004</td>\n      <td>2010-02-23</td>\n      <td>29.9</td>\n      <td>10.7</td>\n    </tr>\n    <tr>\n      <th>5</th>\n      <td>MX17004</td>\n      <td>2010-03-05</td>\n      <td>32.1</td>\n      <td>14.2</td>\n    </tr>\n    <tr>\n      <th>6</th>\n      <td>MX17004</td>\n      <td>2010-03-10</td>\n      <td>34.5</td>\n      <td>16.8</td>\n    </tr>\n    <tr>\n      <th>7</th>\n      <td>MX17004</td>\n      <td>2010-03-16</td>\n      <td>31.1</td>\n      <td>17.6</td>\n    </tr>\n    <tr>\n      <th>8</th>\n      <td>MX17004</td>\n      <td>2010-04-27</td>\n      <td>36.3</td>\n      <td>16.7</td>\n    </tr>\n    <tr>\n      <th>9</th>\n      <td>MX17004</td>\n      <td>2010-05-27</td>\n      <td>33.2</td>\n      <td>18.2</td>\n    </tr>\n  </tbody>\n</table>\n</div>"
     },
     "metadata": {},
     "execution_count": 100
    }
   ],
   "source": [
    "df = df.pivot(index=['id','date'], columns='element', values='value')\n",
    "df.reset_index(inplace=True)\n",
    "df"
   ]
  },
  {
   "cell_type": "code",
   "execution_count": 102,
   "metadata": {},
   "outputs": [
    {
     "output_type": "execute_result",
     "data": {
      "text/plain": [
       "        id       date  tmax  tmin\n",
       "0  MX17004 2010-01-30  27.8  14.5\n",
       "1  MX17004 2010-02-02  27.3  14.4\n",
       "2  MX17004 2010-02-03  24.1  14.4\n",
       "3  MX17004 2010-02-11  29.7  13.4\n",
       "4  MX17004 2010-02-23  29.9  10.7\n",
       "5  MX17004 2010-03-05  32.1  14.2\n",
       "6  MX17004 2010-03-10  34.5  16.8\n",
       "7  MX17004 2010-03-16  31.1  17.6\n",
       "8  MX17004 2010-04-27  36.3  16.7\n",
       "9  MX17004 2010-05-27  33.2  18.2"
      ],
      "text/html": "<div>\n<style scoped>\n    .dataframe tbody tr th:only-of-type {\n        vertical-align: middle;\n    }\n\n    .dataframe tbody tr th {\n        vertical-align: top;\n    }\n\n    .dataframe thead th {\n        text-align: right;\n    }\n</style>\n<table border=\"1\" class=\"dataframe\">\n  <thead>\n    <tr style=\"text-align: right;\">\n      <th></th>\n      <th>id</th>\n      <th>date</th>\n      <th>tmax</th>\n      <th>tmin</th>\n    </tr>\n  </thead>\n  <tbody>\n    <tr>\n      <th>0</th>\n      <td>MX17004</td>\n      <td>2010-01-30</td>\n      <td>27.8</td>\n      <td>14.5</td>\n    </tr>\n    <tr>\n      <th>1</th>\n      <td>MX17004</td>\n      <td>2010-02-02</td>\n      <td>27.3</td>\n      <td>14.4</td>\n    </tr>\n    <tr>\n      <th>2</th>\n      <td>MX17004</td>\n      <td>2010-02-03</td>\n      <td>24.1</td>\n      <td>14.4</td>\n    </tr>\n    <tr>\n      <th>3</th>\n      <td>MX17004</td>\n      <td>2010-02-11</td>\n      <td>29.7</td>\n      <td>13.4</td>\n    </tr>\n    <tr>\n      <th>4</th>\n      <td>MX17004</td>\n      <td>2010-02-23</td>\n      <td>29.9</td>\n      <td>10.7</td>\n    </tr>\n    <tr>\n      <th>5</th>\n      <td>MX17004</td>\n      <td>2010-03-05</td>\n      <td>32.1</td>\n      <td>14.2</td>\n    </tr>\n    <tr>\n      <th>6</th>\n      <td>MX17004</td>\n      <td>2010-03-10</td>\n      <td>34.5</td>\n      <td>16.8</td>\n    </tr>\n    <tr>\n      <th>7</th>\n      <td>MX17004</td>\n      <td>2010-03-16</td>\n      <td>31.1</td>\n      <td>17.6</td>\n    </tr>\n    <tr>\n      <th>8</th>\n      <td>MX17004</td>\n      <td>2010-04-27</td>\n      <td>36.3</td>\n      <td>16.7</td>\n    </tr>\n    <tr>\n      <th>9</th>\n      <td>MX17004</td>\n      <td>2010-05-27</td>\n      <td>33.2</td>\n      <td>18.2</td>\n    </tr>\n  </tbody>\n</table>\n</div>"
     },
     "metadata": {},
     "execution_count": 102
    }
   ],
   "source": [
    "df.rename_axis('',axis=1, inplace=True)\n",
    "df"
   ]
  },
  {
   "cell_type": "code",
   "execution_count": null,
   "metadata": {},
   "outputs": [],
   "source": []
  }
 ],
 "metadata": {
  "kernelspec": {
   "display_name": "Python 3",
   "language": "python",
   "name": "python3"
  },
  "language_info": {
   "codemirror_mode": {
    "name": "ipython",
    "version": 3
   },
   "file_extension": ".py",
   "mimetype": "text/x-python",
   "name": "python",
   "nbconvert_exporter": "python",
   "pygments_lexer": "ipython3",
   "version": "3.8.5-final"
  }
 },
 "nbformat": 4,
 "nbformat_minor": 2
}