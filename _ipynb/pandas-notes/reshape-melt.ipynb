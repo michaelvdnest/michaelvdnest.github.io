{
 "cells": [
  {
   "cell_type": "code",
   "execution_count": 2,
   "metadata": {},
   "outputs": [
    {
     "output_type": "execute_result",
     "data": {
      "text/plain": [
       "  Country  1/3/2021  2/3/2021  3/3/2021\n",
       "0     USA         4         7        10\n",
       "1      SA         5         8        11\n",
       "2      UK         6         9        12"
      ],
      "text/html": "<div>\n<style scoped>\n    .dataframe tbody tr th:only-of-type {\n        vertical-align: middle;\n    }\n\n    .dataframe tbody tr th {\n        vertical-align: top;\n    }\n\n    .dataframe thead th {\n        text-align: right;\n    }\n</style>\n<table border=\"1\" class=\"dataframe\">\n  <thead>\n    <tr style=\"text-align: right;\">\n      <th></th>\n      <th>Country</th>\n      <th>1/3/2021</th>\n      <th>2/3/2021</th>\n      <th>3/3/2021</th>\n    </tr>\n  </thead>\n  <tbody>\n    <tr>\n      <th>0</th>\n      <td>USA</td>\n      <td>4</td>\n      <td>7</td>\n      <td>10</td>\n    </tr>\n    <tr>\n      <th>1</th>\n      <td>SA</td>\n      <td>5</td>\n      <td>8</td>\n      <td>11</td>\n    </tr>\n    <tr>\n      <th>2</th>\n      <td>UK</td>\n      <td>6</td>\n      <td>9</td>\n      <td>12</td>\n    </tr>\n  </tbody>\n</table>\n</div>"
     },
     "metadata": {},
     "execution_count": 2
    }
   ],
   "source": [
    "import pandas as pd\n",
    "import numpy as np\n",
    "import matplotlib.pyplot as plt\n",
    "%matplotlib inline\n",
    "\n",
    "df = pd.read_csv('melt_dates.csv')\n",
    "df\n"
   ]
  },
  {
   "cell_type": "code",
   "execution_count": 3,
   "metadata": {},
   "outputs": [
    {
     "output_type": "execute_result",
     "data": {
      "text/plain": [
       "  Country  1/3/2021  2/3/2021  3/3/2021\n",
       "0     USA         4         7        10\n",
       "1      SA         5         8        11\n",
       "2      UK         6         9        12"
      ],
      "text/html": "<div>\n<style scoped>\n    .dataframe tbody tr th:only-of-type {\n        vertical-align: middle;\n    }\n\n    .dataframe tbody tr th {\n        vertical-align: top;\n    }\n\n    .dataframe thead th {\n        text-align: right;\n    }\n</style>\n<table border=\"1\" class=\"dataframe\">\n  <thead>\n    <tr style=\"text-align: right;\">\n      <th></th>\n      <th>Country</th>\n      <th>1/3/2021</th>\n      <th>2/3/2021</th>\n      <th>3/3/2021</th>\n    </tr>\n  </thead>\n  <tbody>\n    <tr>\n      <th>0</th>\n      <td>USA</td>\n      <td>4</td>\n      <td>7</td>\n      <td>10</td>\n    </tr>\n    <tr>\n      <th>1</th>\n      <td>SA</td>\n      <td>5</td>\n      <td>8</td>\n      <td>11</td>\n    </tr>\n    <tr>\n      <th>2</th>\n      <td>UK</td>\n      <td>6</td>\n      <td>9</td>\n      <td>12</td>\n    </tr>\n  </tbody>\n</table>\n</div>"
     },
     "metadata": {},
     "execution_count": 3
    }
   ],
   "source": [
    "df"
   ]
  },
  {
   "cell_type": "code",
   "execution_count": 4,
   "metadata": {},
   "outputs": [
    {
     "output_type": "execute_result",
     "data": {
      "text/plain": [
       "  Country  variable  value\n",
       "0     USA  1/3/2021      4\n",
       "1      SA  1/3/2021      5\n",
       "2      UK  1/3/2021      6\n",
       "3     USA  2/3/2021      7\n",
       "4      SA  2/3/2021      8\n",
       "5      UK  2/3/2021      9\n",
       "6     USA  3/3/2021     10\n",
       "7      SA  3/3/2021     11\n",
       "8      UK  3/3/2021     12"
      ],
      "text/html": "<div>\n<style scoped>\n    .dataframe tbody tr th:only-of-type {\n        vertical-align: middle;\n    }\n\n    .dataframe tbody tr th {\n        vertical-align: top;\n    }\n\n    .dataframe thead th {\n        text-align: right;\n    }\n</style>\n<table border=\"1\" class=\"dataframe\">\n  <thead>\n    <tr style=\"text-align: right;\">\n      <th></th>\n      <th>Country</th>\n      <th>variable</th>\n      <th>value</th>\n    </tr>\n  </thead>\n  <tbody>\n    <tr>\n      <th>0</th>\n      <td>USA</td>\n      <td>1/3/2021</td>\n      <td>4</td>\n    </tr>\n    <tr>\n      <th>1</th>\n      <td>SA</td>\n      <td>1/3/2021</td>\n      <td>5</td>\n    </tr>\n    <tr>\n      <th>2</th>\n      <td>UK</td>\n      <td>1/3/2021</td>\n      <td>6</td>\n    </tr>\n    <tr>\n      <th>3</th>\n      <td>USA</td>\n      <td>2/3/2021</td>\n      <td>7</td>\n    </tr>\n    <tr>\n      <th>4</th>\n      <td>SA</td>\n      <td>2/3/2021</td>\n      <td>8</td>\n    </tr>\n    <tr>\n      <th>5</th>\n      <td>UK</td>\n      <td>2/3/2021</td>\n      <td>9</td>\n    </tr>\n    <tr>\n      <th>6</th>\n      <td>USA</td>\n      <td>3/3/2021</td>\n      <td>10</td>\n    </tr>\n    <tr>\n      <th>7</th>\n      <td>SA</td>\n      <td>3/3/2021</td>\n      <td>11</td>\n    </tr>\n    <tr>\n      <th>8</th>\n      <td>UK</td>\n      <td>3/3/2021</td>\n      <td>12</td>\n    </tr>\n  </tbody>\n</table>\n</div>"
     },
     "metadata": {},
     "execution_count": 4
    }
   ],
   "source": [
    "df.melt(id_vars='Country')"
   ]
  }
 ],
 "metadata": {
  "kernelspec": {
   "display_name": "Python 3",
   "language": "python",
   "name": "python3"
  },
  "language_info": {
   "codemirror_mode": {
    "name": "ipython",
    "version": 3
   },
   "file_extension": ".py",
   "mimetype": "text/x-python",
   "name": "python",
   "nbconvert_exporter": "python",
   "pygments_lexer": "ipython3",
   "version": "3.8.5-final"
  }
 },
 "nbformat": 4,
 "nbformat_minor": 2
}