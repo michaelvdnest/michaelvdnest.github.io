{
 "cells": [
  {
   "cell_type": "code",
   "execution_count": 1,
   "metadata": {},
   "outputs": [],
   "source": [
    "import pandas as pd\n",
    "import numpy as np\n",
    "import matplotlib.pyplot as plt\n",
    "%matplotlib inline"
   ]
  },
  {
   "cell_type": "code",
   "execution_count": 2,
   "metadata": {},
   "outputs": [
    {
     "data": {
      "text/html": [
       "<div>\n",
       "<style scoped>\n",
       "    .dataframe tbody tr th:only-of-type {\n",
       "        vertical-align: middle;\n",
       "    }\n",
       "\n",
       "    .dataframe tbody tr th {\n",
       "        vertical-align: top;\n",
       "    }\n",
       "\n",
       "    .dataframe thead th {\n",
       "        text-align: right;\n",
       "    }\n",
       "</style>\n",
       "<table border=\"1\" class=\"dataframe\">\n",
       "  <thead>\n",
       "    <tr style=\"text-align: right;\">\n",
       "      <th></th>\n",
       "      <th>str1</th>\n",
       "      <th>str2</th>\n",
       "      <th>str3</th>\n",
       "      <th>float64</th>\n",
       "      <th>int64</th>\n",
       "      <th>float32</th>\n",
       "      <th>int8</th>\n",
       "      <th>bool</th>\n",
       "      <th>date1</th>\n",
       "      <th>date2</th>\n",
       "      <th>date3</th>\n",
       "      <th>delta</th>\n",
       "    </tr>\n",
       "  </thead>\n",
       "  <tbody>\n",
       "    <tr>\n",
       "      <th>0</th>\n",
       "      <td>foo</td>\n",
       "      <td>bar</td>\n",
       "      <td>qux</td>\n",
       "      <td>0.379099</td>\n",
       "      <td>1</td>\n",
       "      <td>0.858889</td>\n",
       "      <td>1</td>\n",
       "      <td>False</td>\n",
       "      <td>2001-01-02</td>\n",
       "      <td>2015-01-01</td>\n",
       "      <td>2011-06-24</td>\n",
       "      <td>0 days</td>\n",
       "    </tr>\n",
       "    <tr>\n",
       "      <th>1</th>\n",
       "      <td>foo</td>\n",
       "      <td>bar</td>\n",
       "      <td>qux</td>\n",
       "      <td>0.567098</td>\n",
       "      <td>1</td>\n",
       "      <td>0.372711</td>\n",
       "      <td>1</td>\n",
       "      <td>False</td>\n",
       "      <td>2001-01-02</td>\n",
       "      <td>2015-01-02</td>\n",
       "      <td>2011-06-24</td>\n",
       "      <td>1 days</td>\n",
       "    </tr>\n",
       "    <tr>\n",
       "      <th>2</th>\n",
       "      <td>foo</td>\n",
       "      <td>bar</td>\n",
       "      <td>qux</td>\n",
       "      <td>0.595593</td>\n",
       "      <td>1</td>\n",
       "      <td>0.555129</td>\n",
       "      <td>1</td>\n",
       "      <td>False</td>\n",
       "      <td>2001-01-02</td>\n",
       "      <td>2015-01-03</td>\n",
       "      <td>2011-06-24</td>\n",
       "      <td>2 days</td>\n",
       "    </tr>\n",
       "  </tbody>\n",
       "</table>\n",
       "</div>"
      ],
      "text/plain": [
       "  str1 str2 str3   float64  int64   float32  int8   bool      date1  \\\n",
       "0  foo  bar  qux  0.379099      1  0.858889     1  False 2001-01-02   \n",
       "1  foo  bar  qux  0.567098      1  0.372711     1  False 2001-01-02   \n",
       "2  foo  bar  qux  0.595593      1  0.555129     1  False 2001-01-02   \n",
       "\n",
       "       date2      date3  delta  \n",
       "0 2015-01-01 2011-06-24 0 days  \n",
       "1 2015-01-02 2011-06-24 1 days  \n",
       "2 2015-01-03 2011-06-24 2 days  "
      ]
     },
     "execution_count": 2,
     "metadata": {},
     "output_type": "execute_result"
    }
   ],
   "source": [
    "dft = pd.DataFrame(\n",
    "    {\n",
    "        \"str1\": \"foo\",\n",
    "        \"str2\": pd.Series([\"bar\"] * 3).astype(\"string\"),\n",
    "        \"str3\": pd.Series([\"qux\"] * 3).astype(\"category\"),\n",
    "        \"float64\": np.random.RandomState(64).rand(3),\n",
    "        \"int64\": 1,\n",
    "        \"float32\": np.random.RandomState(32).rand(3).astype(\"float32\"),\n",
    "        \"int8\": pd.Series([1] * 3, dtype=\"int8\"),\n",
    "        \"bool\": False,\n",
    "        \"date1\": pd.Timestamp(\"20010102\"),\n",
    "        \"date2\": pd.date_range(\"1/1/2015\", periods=3),\n",
    "        \"date3\": np.datetime64('2011-06-24'),\n",
    "        \"delta\": [pd.Timedelta(days=i) for i in range(3)]\n",
    "    }\n",
    ")\n",
    "dft"
   ]
  },
  {
   "cell_type": "markdown",
   "metadata": {},
   "source": [
    "Display each column along with its data type."
   ]
  },
  {
   "cell_type": "code",
   "execution_count": 3,
   "metadata": {},
   "outputs": [
    {
     "data": {
      "text/plain": [
       "str1                object\n",
       "str2                string\n",
       "str3              category\n",
       "float64            float64\n",
       "int64                int64\n",
       "float32            float32\n",
       "int8                  int8\n",
       "bool                  bool\n",
       "date1       datetime64[ns]\n",
       "date2       datetime64[ns]\n",
       "date3       datetime64[ns]\n",
       "delta      timedelta64[ns]\n",
       "dtype: object"
      ]
     },
     "execution_count": 3,
     "metadata": {},
     "output_type": "execute_result"
    }
   ],
   "source": [
    "dft.dtypes"
   ]
  },
  {
   "cell_type": "markdown",
   "metadata": {},
   "source": [
    "Return the column count of each data type."
   ]
  },
  {
   "cell_type": "code",
   "execution_count": 4,
   "metadata": {},
   "outputs": [
    {
     "data": {
      "text/plain": [
       "datetime64[ns]     3\n",
       "object             1\n",
       "category           1\n",
       "int64              1\n",
       "timedelta64[ns]    1\n",
       "int8               1\n",
       "float32            1\n",
       "float64            1\n",
       "string             1\n",
       "bool               1\n",
       "dtype: int64"
      ]
     },
     "execution_count": 4,
     "metadata": {},
     "output_type": "execute_result"
    }
   ],
   "source": [
    "dft.dtypes.value_counts()"
   ]
  }
 ],
 "metadata": {
  "kernelspec": {
   "display_name": "Python 3",
   "language": "python",
   "name": "python3"
  },
  "language_info": {
   "codemirror_mode": {
    "name": "ipython",
    "version": 3
   },
   "file_extension": ".py",
   "mimetype": "text/x-python",
   "name": "python",
   "nbconvert_exporter": "python",
   "pygments_lexer": "ipython3",
   "version": "3.8.2"
  }
 },
 "nbformat": 4,
 "nbformat_minor": 2
}
