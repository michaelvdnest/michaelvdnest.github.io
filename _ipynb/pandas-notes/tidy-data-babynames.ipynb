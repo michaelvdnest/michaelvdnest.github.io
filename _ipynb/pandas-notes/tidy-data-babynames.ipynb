{
 "cells": [
  {
   "cell_type": "code",
   "execution_count": 24,
   "metadata": {},
   "outputs": [],
   "source": [
    "import pandas as pd\n",
    "import numpy as np\n",
    "import matplotlib.pyplot as plt\n",
    "%matplotlib inline\n",
    "\n",
    "pd.set_option('display.min_rows', 10)\n",
    "pd.set_option('display.max_rows', 10)"
   ]
  },
  {
   "cell_type": "code",
   "execution_count": 25,
   "metadata": {},
   "outputs": [],
   "source": [
    "# hide\n",
    "df = pd.read_csv('./tidy-data/baby-names-by-state.csv')"
   ]
  },
  {
   "cell_type": "code",
   "execution_count": 26,
   "metadata": {},
   "outputs": [
    {
     "output_type": "execute_result",
     "data": {
      "text/plain": [
       "       state  year     name  number   sex\n",
       "0         AK  1960    David   151.0   boy\n",
       "1         AK  1960  Michael   139.0   boy\n",
       "2         AK  1960   Robert   135.0   boy\n",
       "3         AK  1960     John   126.0   boy\n",
       "4         AK  1960    James   123.0   boy\n",
       "...      ...   ...      ...     ...   ...\n",
       "502613    WY  2008  Madelyn     6.0  girl\n",
       "502614    WY  2008   Marlee     6.0  girl\n",
       "502615    WY  2008     Mary     6.0  girl\n",
       "502616    WY  2008     Maya     6.0  girl\n",
       "502617    WY  2008      Mya     6.0  girl\n",
       "\n",
       "[502618 rows x 5 columns]"
      ],
      "text/html": "<div>\n<style scoped>\n    .dataframe tbody tr th:only-of-type {\n        vertical-align: middle;\n    }\n\n    .dataframe tbody tr th {\n        vertical-align: top;\n    }\n\n    .dataframe thead th {\n        text-align: right;\n    }\n</style>\n<table border=\"1\" class=\"dataframe\">\n  <thead>\n    <tr style=\"text-align: right;\">\n      <th></th>\n      <th>state</th>\n      <th>year</th>\n      <th>name</th>\n      <th>number</th>\n      <th>sex</th>\n    </tr>\n  </thead>\n  <tbody>\n    <tr>\n      <th>0</th>\n      <td>AK</td>\n      <td>1960</td>\n      <td>David</td>\n      <td>151.0</td>\n      <td>boy</td>\n    </tr>\n    <tr>\n      <th>1</th>\n      <td>AK</td>\n      <td>1960</td>\n      <td>Michael</td>\n      <td>139.0</td>\n      <td>boy</td>\n    </tr>\n    <tr>\n      <th>2</th>\n      <td>AK</td>\n      <td>1960</td>\n      <td>Robert</td>\n      <td>135.0</td>\n      <td>boy</td>\n    </tr>\n    <tr>\n      <th>3</th>\n      <td>AK</td>\n      <td>1960</td>\n      <td>John</td>\n      <td>126.0</td>\n      <td>boy</td>\n    </tr>\n    <tr>\n      <th>4</th>\n      <td>AK</td>\n      <td>1960</td>\n      <td>James</td>\n      <td>123.0</td>\n      <td>boy</td>\n    </tr>\n    <tr>\n      <th>...</th>\n      <td>...</td>\n      <td>...</td>\n      <td>...</td>\n      <td>...</td>\n      <td>...</td>\n    </tr>\n    <tr>\n      <th>502613</th>\n      <td>WY</td>\n      <td>2008</td>\n      <td>Madelyn</td>\n      <td>6.0</td>\n      <td>girl</td>\n    </tr>\n    <tr>\n      <th>502614</th>\n      <td>WY</td>\n      <td>2008</td>\n      <td>Marlee</td>\n      <td>6.0</td>\n      <td>girl</td>\n    </tr>\n    <tr>\n      <th>502615</th>\n      <td>WY</td>\n      <td>2008</td>\n      <td>Mary</td>\n      <td>6.0</td>\n      <td>girl</td>\n    </tr>\n    <tr>\n      <th>502616</th>\n      <td>WY</td>\n      <td>2008</td>\n      <td>Maya</td>\n      <td>6.0</td>\n      <td>girl</td>\n    </tr>\n    <tr>\n      <th>502617</th>\n      <td>WY</td>\n      <td>2008</td>\n      <td>Mya</td>\n      <td>6.0</td>\n      <td>girl</td>\n    </tr>\n  </tbody>\n</table>\n<p>502618 rows × 5 columns</p>\n</div>"
     },
     "metadata": {},
     "execution_count": 26
    }
   ],
   "source": [
    "df"
   ]
  },
  {
   "cell_type": "code",
   "execution_count": 27,
   "metadata": {},
   "outputs": [
    {
     "output_type": "execute_result",
     "data": {
      "text/plain": [
       "       state  year     name  number   sex\n",
       "0         AK  1960    David   151.0   boy\n",
       "251309    AK  1960     Mary    78.0  girl\n",
       "113       AK  1961    David   145.0   boy\n",
       "251422    AK  1961     Mary    80.0  girl\n",
       "220       AK  1962     John   156.0   boy\n",
       "...      ...   ...      ...     ...   ...\n",
       "502278    WY  2006    Emily    39.0  girl\n",
       "251077    WY  2007    Ethan    37.0   boy\n",
       "502386    WY  2007  Madison    36.0  girl\n",
       "251189    WY  2008    James    41.0   boy\n",
       "502498    WY  2008  Madison    35.0  girl\n",
       "\n",
       "[4900 rows x 5 columns]"
      ],
      "text/html": "<div>\n<style scoped>\n    .dataframe tbody tr th:only-of-type {\n        vertical-align: middle;\n    }\n\n    .dataframe tbody tr th {\n        vertical-align: top;\n    }\n\n    .dataframe thead th {\n        text-align: right;\n    }\n</style>\n<table border=\"1\" class=\"dataframe\">\n  <thead>\n    <tr style=\"text-align: right;\">\n      <th></th>\n      <th>state</th>\n      <th>year</th>\n      <th>name</th>\n      <th>number</th>\n      <th>sex</th>\n    </tr>\n  </thead>\n  <tbody>\n    <tr>\n      <th>0</th>\n      <td>AK</td>\n      <td>1960</td>\n      <td>David</td>\n      <td>151.0</td>\n      <td>boy</td>\n    </tr>\n    <tr>\n      <th>251309</th>\n      <td>AK</td>\n      <td>1960</td>\n      <td>Mary</td>\n      <td>78.0</td>\n      <td>girl</td>\n    </tr>\n    <tr>\n      <th>113</th>\n      <td>AK</td>\n      <td>1961</td>\n      <td>David</td>\n      <td>145.0</td>\n      <td>boy</td>\n    </tr>\n    <tr>\n      <th>251422</th>\n      <td>AK</td>\n      <td>1961</td>\n      <td>Mary</td>\n      <td>80.0</td>\n      <td>girl</td>\n    </tr>\n    <tr>\n      <th>220</th>\n      <td>AK</td>\n      <td>1962</td>\n      <td>John</td>\n      <td>156.0</td>\n      <td>boy</td>\n    </tr>\n    <tr>\n      <th>...</th>\n      <td>...</td>\n      <td>...</td>\n      <td>...</td>\n      <td>...</td>\n      <td>...</td>\n    </tr>\n    <tr>\n      <th>502278</th>\n      <td>WY</td>\n      <td>2006</td>\n      <td>Emily</td>\n      <td>39.0</td>\n      <td>girl</td>\n    </tr>\n    <tr>\n      <th>251077</th>\n      <td>WY</td>\n      <td>2007</td>\n      <td>Ethan</td>\n      <td>37.0</td>\n      <td>boy</td>\n    </tr>\n    <tr>\n      <th>502386</th>\n      <td>WY</td>\n      <td>2007</td>\n      <td>Madison</td>\n      <td>36.0</td>\n      <td>girl</td>\n    </tr>\n    <tr>\n      <th>251189</th>\n      <td>WY</td>\n      <td>2008</td>\n      <td>James</td>\n      <td>41.0</td>\n      <td>boy</td>\n    </tr>\n    <tr>\n      <th>502498</th>\n      <td>WY</td>\n      <td>2008</td>\n      <td>Madison</td>\n      <td>35.0</td>\n      <td>girl</td>\n    </tr>\n  </tbody>\n</table>\n<p>4900 rows × 5 columns</p>\n</div>"
     },
     "metadata": {},
     "execution_count": 27
    }
   ],
   "source": [
    "df.sort_values(by=['state', 'year', 'sex', 'number'], \n",
    "               ascending=[True, True, True, False],\n",
    "               inplace=True)\n",
    "df.drop_duplicates(subset=['state', 'year', 'sex'], inplace=True)\n",
    "df"
   ]
  },
  {
   "cell_type": "code",
   "execution_count": 38,
   "metadata": {
    "tags": []
   },
   "outputs": [],
   "source": [
    "# Save baby names to file.\n",
    "grouped = df.groupby('year')\n",
    "\n",
    "for year,df_group in grouped:\n",
    "    filename = './tidy-data/test_files/baby-names-by-state-{}.csv'.format(year)\n",
    "    df_group.to_csv(filename)\n",
    "\n"
   ]
  },
  {
   "cell_type": "code",
   "execution_count": 34,
   "metadata": {},
   "outputs": [
    {
     "output_type": "execute_result",
     "data": {
      "text/plain": [
       "'./tidy-data/baby-names-by-state-1966.csv'"
      ]
     },
     "metadata": {},
     "execution_count": 34
    }
   ],
   "source": [
    "'./tidy-data/baby-names-by-state-{}_test_file.csv'.format(1966)"
   ]
  },
  {
   "cell_type": "code",
   "execution_count": null,
   "metadata": {},
   "outputs": [],
   "source": []
  }
 ],
 "metadata": {
  "kernelspec": {
   "display_name": "Python 3",
   "language": "python",
   "name": "python3"
  },
  "language_info": {
   "codemirror_mode": {
    "name": "ipython",
    "version": 3
   },
   "file_extension": ".py",
   "mimetype": "text/x-python",
   "name": "python",
   "nbconvert_exporter": "python",
   "pygments_lexer": "ipython3",
   "version": "3.8.5-final"
  }
 },
 "nbformat": 4,
 "nbformat_minor": 2
}