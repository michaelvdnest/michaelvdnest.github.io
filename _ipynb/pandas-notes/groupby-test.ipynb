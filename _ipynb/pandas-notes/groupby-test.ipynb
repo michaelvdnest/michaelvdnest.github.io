{
 "metadata": {
  "language_info": {
   "codemirror_mode": {
    "name": "ipython",
    "version": 3
   },
   "file_extension": ".py",
   "mimetype": "text/x-python",
   "name": "python",
   "nbconvert_exporter": "python",
   "pygments_lexer": "ipython3",
   "version": "3.8.2-final"
  },
  "orig_nbformat": 2,
  "kernelspec": {
   "name": "python3",
   "display_name": "Python 3",
   "language": "python"
  }
 },
 "nbformat": 4,
 "nbformat_minor": 2,
 "cells": [
  {
   "cell_type": "code",
   "execution_count": 13,
   "metadata": {},
   "outputs": [],
   "source": [
    "import pandas as pd\n",
    "import numpy as np\n",
    "import matplotlib.pyplot as plt\n",
    "%matplotlib inline"
   ]
  },
  {
   "cell_type": "code",
   "execution_count": 14,
   "metadata": {},
   "outputs": [
    {
     "output_type": "execute_result",
     "data": {
      "text/plain": [
       "          class           order  max_speed\n",
       "falcon     bird   Falconiformes      389.0\n",
       "parrot     bird  Psittaciformes       24.0\n",
       "lion     mammal       Carnivora       80.2\n",
       "monkey   mammal        Primates        NaN\n",
       "leopard  mammal       Carnivora       58.0"
      ],
      "text/html": "<div>\n<style scoped>\n    .dataframe tbody tr th:only-of-type {\n        vertical-align: middle;\n    }\n\n    .dataframe tbody tr th {\n        vertical-align: top;\n    }\n\n    .dataframe thead th {\n        text-align: right;\n    }\n</style>\n<table border=\"1\" class=\"dataframe\">\n  <thead>\n    <tr style=\"text-align: right;\">\n      <th></th>\n      <th>class</th>\n      <th>order</th>\n      <th>max_speed</th>\n    </tr>\n  </thead>\n  <tbody>\n    <tr>\n      <th>falcon</th>\n      <td>bird</td>\n      <td>Falconiformes</td>\n      <td>389.0</td>\n    </tr>\n    <tr>\n      <th>parrot</th>\n      <td>bird</td>\n      <td>Psittaciformes</td>\n      <td>24.0</td>\n    </tr>\n    <tr>\n      <th>lion</th>\n      <td>mammal</td>\n      <td>Carnivora</td>\n      <td>80.2</td>\n    </tr>\n    <tr>\n      <th>monkey</th>\n      <td>mammal</td>\n      <td>Primates</td>\n      <td>NaN</td>\n    </tr>\n    <tr>\n      <th>leopard</th>\n      <td>mammal</td>\n      <td>Carnivora</td>\n      <td>58.0</td>\n    </tr>\n  </tbody>\n</table>\n</div>"
     },
     "metadata": {},
     "execution_count": 14
    }
   ],
   "source": [
    "df = pd.DataFrame(\n",
    "    [\n",
    "        (\"bird\", \"Falconiformes\", 389.0),\n",
    "        (\"bird\", \"Psittaciformes\", 24.0),\n",
    "        (\"mammal\", \"Carnivora\", 80.2),\n",
    "        (\"mammal\", \"Primates\", np.nan),\n",
    "        (\"mammal\", \"Carnivora\", 58),\n",
    "    ],\n",
    "    index=[\"falcon\", \"parrot\", \"lion\", \"monkey\", \"leopard\"],\n",
    "    columns=(\"class\", \"order\", \"max_speed\"),\n",
    ")\n",
    "df"
   ]
  },
  {
   "cell_type": "code",
   "execution_count": 20,
   "metadata": {},
   "outputs": [
    {
     "output_type": "execute_result",
     "data": {
      "text/plain": [
       "       order                           \n",
       "       count unique            top freq\n",
       "class                                  \n",
       "bird       2      2  Falconiformes    1\n",
       "mammal     3      2      Carnivora    2"
      ],
      "text/html": "<div>\n<style scoped>\n    .dataframe tbody tr th:only-of-type {\n        vertical-align: middle;\n    }\n\n    .dataframe tbody tr th {\n        vertical-align: top;\n    }\n\n    .dataframe thead tr th {\n        text-align: left;\n    }\n\n    .dataframe thead tr:last-of-type th {\n        text-align: right;\n    }\n</style>\n<table border=\"1\" class=\"dataframe\">\n  <thead>\n    <tr>\n      <th></th>\n      <th colspan=\"4\" halign=\"left\">order</th>\n    </tr>\n    <tr>\n      <th></th>\n      <th>count</th>\n      <th>unique</th>\n      <th>top</th>\n      <th>freq</th>\n    </tr>\n    <tr>\n      <th>class</th>\n      <th></th>\n      <th></th>\n      <th></th>\n      <th></th>\n    </tr>\n  </thead>\n  <tbody>\n    <tr>\n      <th>bird</th>\n      <td>2</td>\n      <td>2</td>\n      <td>Falconiformes</td>\n      <td>1</td>\n    </tr>\n    <tr>\n      <th>mammal</th>\n      <td>3</td>\n      <td>2</td>\n      <td>Carnivora</td>\n      <td>2</td>\n    </tr>\n  </tbody>\n</table>\n</div>"
     },
     "metadata": {},
     "execution_count": 20
    }
   ],
   "source": [
    "df.groupby(\"class\").describe(include=[np.object, pd.Categorical])\n"
   ]
  },
  {
   "cell_type": "code",
   "execution_count": null,
   "metadata": {},
   "outputs": [],
   "source": [
    "df.groupby('clas')"
   ]
  },
  {
   "cell_type": "code",
   "execution_count": 16,
   "metadata": {},
   "outputs": [
    {
     "output_type": "execute_result",
     "data": {
      "text/plain": [
       "class   order         \n",
       "bird    Falconiformes     389.0\n",
       "        Psittaciformes     24.0\n",
       "mammal  Carnivora         138.2\n",
       "        Primates            0.0\n",
       "Name: max_speed, dtype: float64"
      ]
     },
     "metadata": {},
     "execution_count": 16
    }
   ],
   "source": [
    "df.groupby([\"class\", \"order\"])['max_speed'].sum()\n"
   ]
  },
  {
   "cell_type": "code",
   "execution_count": 17,
   "metadata": {},
   "outputs": [
    {
     "output_type": "execute_result",
     "data": {
      "text/plain": [
       "                      max_speed                                          \\\n",
       "                          count   mean        std    min     25%    50%   \n",
       "class  order                                                              \n",
       "bird   Falconiformes        1.0  389.0        NaN  389.0  389.00  389.0   \n",
       "       Psittaciformes       1.0   24.0        NaN   24.0   24.00   24.0   \n",
       "mammal Carnivora            2.0   69.1  15.697771   58.0   63.55   69.1   \n",
       "       Primates             0.0    NaN        NaN    NaN     NaN    NaN   \n",
       "\n",
       "                                      \n",
       "                          75%    max  \n",
       "class  order                          \n",
       "bird   Falconiformes   389.00  389.0  \n",
       "       Psittaciformes   24.00   24.0  \n",
       "mammal Carnivora        74.65   80.2  \n",
       "       Primates           NaN    NaN  "
      ],
      "text/html": "<div>\n<style scoped>\n    .dataframe tbody tr th:only-of-type {\n        vertical-align: middle;\n    }\n\n    .dataframe tbody tr th {\n        vertical-align: top;\n    }\n\n    .dataframe thead tr th {\n        text-align: left;\n    }\n\n    .dataframe thead tr:last-of-type th {\n        text-align: right;\n    }\n</style>\n<table border=\"1\" class=\"dataframe\">\n  <thead>\n    <tr>\n      <th></th>\n      <th></th>\n      <th colspan=\"8\" halign=\"left\">max_speed</th>\n    </tr>\n    <tr>\n      <th></th>\n      <th></th>\n      <th>count</th>\n      <th>mean</th>\n      <th>std</th>\n      <th>min</th>\n      <th>25%</th>\n      <th>50%</th>\n      <th>75%</th>\n      <th>max</th>\n    </tr>\n    <tr>\n      <th>class</th>\n      <th>order</th>\n      <th></th>\n      <th></th>\n      <th></th>\n      <th></th>\n      <th></th>\n      <th></th>\n      <th></th>\n      <th></th>\n    </tr>\n  </thead>\n  <tbody>\n    <tr>\n      <th rowspan=\"2\" valign=\"top\">bird</th>\n      <th>Falconiformes</th>\n      <td>1.0</td>\n      <td>389.0</td>\n      <td>NaN</td>\n      <td>389.0</td>\n      <td>389.00</td>\n      <td>389.0</td>\n      <td>389.00</td>\n      <td>389.0</td>\n    </tr>\n    <tr>\n      <th>Psittaciformes</th>\n      <td>1.0</td>\n      <td>24.0</td>\n      <td>NaN</td>\n      <td>24.0</td>\n      <td>24.00</td>\n      <td>24.0</td>\n      <td>24.00</td>\n      <td>24.0</td>\n    </tr>\n    <tr>\n      <th rowspan=\"2\" valign=\"top\">mammal</th>\n      <th>Carnivora</th>\n      <td>2.0</td>\n      <td>69.1</td>\n      <td>15.697771</td>\n      <td>58.0</td>\n      <td>63.55</td>\n      <td>69.1</td>\n      <td>74.65</td>\n      <td>80.2</td>\n    </tr>\n    <tr>\n      <th>Primates</th>\n      <td>0.0</td>\n      <td>NaN</td>\n      <td>NaN</td>\n      <td>NaN</td>\n      <td>NaN</td>\n      <td>NaN</td>\n      <td>NaN</td>\n      <td>NaN</td>\n    </tr>\n  </tbody>\n</table>\n</div>"
     },
     "metadata": {},
     "execution_count": 17
    }
   ],
   "source": [
    "df.groupby([\"class\", \"order\"]).describe()"
   ]
  },
  {
   "cell_type": "code",
   "execution_count": 18,
   "metadata": {},
   "outputs": [
    {
     "output_type": "execute_result",
     "data": {
      "text/plain": [
       "{'consonant': ['class', 'max_speed'], 'vowel': ['order']}"
      ]
     },
     "metadata": {},
     "execution_count": 18
    }
   ],
   "source": [
    "def get_letter_type(letter):\n",
    "    if letter[0].lower() in 'aeiou':\n",
    "        return 'vowel'\n",
    "    else:\n",
    "        return 'consonant'\n",
    "\n",
    "df.groupby(get_letter_type, axis=1).groups"
   ]
  },
  {
   "cell_type": "code",
   "execution_count": 19,
   "metadata": {},
   "outputs": [
    {
     "output_type": "execute_result",
     "data": {
      "text/plain": [
       "        consonant           vowel\n",
       "falcon      389.0   Falconiformes\n",
       "parrot       24.0  Psittaciformes\n",
       "lion         80.2       Carnivora\n",
       "monkey     mammal        Primates\n",
       "leopard      58.0       Carnivora"
      ],
      "text/html": "<div>\n<style scoped>\n    .dataframe tbody tr th:only-of-type {\n        vertical-align: middle;\n    }\n\n    .dataframe tbody tr th {\n        vertical-align: top;\n    }\n\n    .dataframe thead th {\n        text-align: right;\n    }\n</style>\n<table border=\"1\" class=\"dataframe\">\n  <thead>\n    <tr style=\"text-align: right;\">\n      <th></th>\n      <th>consonant</th>\n      <th>vowel</th>\n    </tr>\n  </thead>\n  <tbody>\n    <tr>\n      <th>falcon</th>\n      <td>389.0</td>\n      <td>Falconiformes</td>\n    </tr>\n    <tr>\n      <th>parrot</th>\n      <td>24.0</td>\n      <td>Psittaciformes</td>\n    </tr>\n    <tr>\n      <th>lion</th>\n      <td>80.2</td>\n      <td>Carnivora</td>\n    </tr>\n    <tr>\n      <th>monkey</th>\n      <td>mammal</td>\n      <td>Primates</td>\n    </tr>\n    <tr>\n      <th>leopard</th>\n      <td>58.0</td>\n      <td>Carnivora</td>\n    </tr>\n  </tbody>\n</table>\n</div>"
     },
     "metadata": {},
     "execution_count": 19
    }
   ],
   "source": [
    "df.groupby(get_letter_type, axis=1).last()"
   ]
  },
  {
   "cell_type": "code",
   "execution_count": null,
   "metadata": {},
   "outputs": [],
   "source": []
  }
 ]
}